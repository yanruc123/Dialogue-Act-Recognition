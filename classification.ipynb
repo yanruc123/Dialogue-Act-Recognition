{
 "cells": [
  {
   "cell_type": "code",
   "execution_count": 1,
   "id": "0e1f3a57",
   "metadata": {},
   "outputs": [
    {
     "name": "stderr",
     "output_type": "stream",
     "text": [
      "/Users/ghbhgtgh/opt/anaconda3/envs/slp/lib/python3.10/site-packages/scipy/__init__.py:146: UserWarning: A NumPy version >=1.16.5 and <1.23.0 is required for this version of SciPy (detected version 1.23.1\n",
      "  warnings.warn(f\"A NumPy version >={np_minversion} and <{np_maxversion}\"\n",
      "2022-10-30 20:12:36.350133: I tensorflow/core/platform/cpu_feature_guard.cc:193] This TensorFlow binary is optimized with oneAPI Deep Neural Network Library (oneDNN) to use the following CPU instructions in performance-critical operations:  SSE4.1 SSE4.2 AVX AVX2 AVX512F AVX512_VNNI FMA\n",
      "To enable them in other operations, rebuild TensorFlow with the appropriate compiler flags.\n"
     ]
    }
   ],
   "source": [
    "import pandas as pd\n",
    "from sklearn import preprocessing\n",
    "from sklearn.pipeline import Pipeline\n",
    "from sklearn.preprocessing import StandardScaler, OneHotEncoder\n",
    "from sklearn.linear_model import LogisticRegression\n",
    "import numpy as np\n",
    "from sklearn.compose import ColumnTransformer\n",
    "from sklearn.impute import SimpleImputer\n",
    "from sklearn.model_selection import train_test_split\n",
    "import tensorflow as tf"
   ]
  },
  {
   "cell_type": "markdown",
   "id": "c0acecfb",
   "metadata": {},
   "source": [
    "# Train Models"
   ]
  },
  {
   "cell_type": "markdown",
   "id": "ac77dafe",
   "metadata": {
    "heading_collapsed": true
   },
   "source": [
    "## Load Data"
   ]
  },
  {
   "cell_type": "code",
   "execution_count": 2,
   "id": "c2ecd40d",
   "metadata": {
    "hidden": true
   },
   "outputs": [
    {
     "data": {
      "text/html": [
       "<div>\n",
       "<style scoped>\n",
       "    .dataframe tbody tr th:only-of-type {\n",
       "        vertical-align: middle;\n",
       "    }\n",
       "\n",
       "    .dataframe tbody tr th {\n",
       "        vertical-align: top;\n",
       "    }\n",
       "\n",
       "    .dataframe thead th {\n",
       "        text-align: right;\n",
       "    }\n",
       "</style>\n",
       "<table border=\"1\" class=\"dataframe\">\n",
       "  <thead>\n",
       "    <tr style=\"text-align: right;\">\n",
       "      <th></th>\n",
       "      <th>dialog_id</th>\n",
       "      <th>speaker</th>\n",
       "      <th>da_tag</th>\n",
       "      <th>function</th>\n",
       "      <th>pronoun</th>\n",
       "      <th>ppron</th>\n",
       "      <th>i</th>\n",
       "      <th>we</th>\n",
       "      <th>you</th>\n",
       "      <th>shehe</th>\n",
       "      <th>...</th>\n",
       "      <th>Max Pitch</th>\n",
       "      <th>Mean Pitch</th>\n",
       "      <th>Sd Pitch</th>\n",
       "      <th>Max Intensity</th>\n",
       "      <th>Mean Intensity</th>\n",
       "      <th>Sd Intensity</th>\n",
       "      <th>Speaking Rate</th>\n",
       "      <th>Jitter</th>\n",
       "      <th>Shimmer</th>\n",
       "      <th>HNR</th>\n",
       "    </tr>\n",
       "  </thead>\n",
       "  <tbody>\n",
       "    <tr>\n",
       "      <th>1</th>\n",
       "      <td>sw2005</td>\n",
       "      <td>A</td>\n",
       "      <td>sd</td>\n",
       "      <td>0.65</td>\n",
       "      <td>0.200000</td>\n",
       "      <td>0.150000</td>\n",
       "      <td>0.1</td>\n",
       "      <td>0.0</td>\n",
       "      <td>0.0</td>\n",
       "      <td>0.050000</td>\n",
       "      <td>...</td>\n",
       "      <td>561.691</td>\n",
       "      <td>23.98</td>\n",
       "      <td>50.946</td>\n",
       "      <td>81.406</td>\n",
       "      <td>39.0</td>\n",
       "      <td>23.787</td>\n",
       "      <td>10.196142</td>\n",
       "      <td>0.016</td>\n",
       "      <td>0.087</td>\n",
       "      <td>13.45</td>\n",
       "    </tr>\n",
       "    <tr>\n",
       "      <th>2</th>\n",
       "      <td>sw2005</td>\n",
       "      <td>A</td>\n",
       "      <td>sd</td>\n",
       "      <td>0.50</td>\n",
       "      <td>0.055556</td>\n",
       "      <td>0.055556</td>\n",
       "      <td>0.0</td>\n",
       "      <td>0.0</td>\n",
       "      <td>0.0</td>\n",
       "      <td>0.055556</td>\n",
       "      <td>...</td>\n",
       "      <td>561.691</td>\n",
       "      <td>23.98</td>\n",
       "      <td>50.946</td>\n",
       "      <td>81.406</td>\n",
       "      <td>39.0</td>\n",
       "      <td>23.787</td>\n",
       "      <td>10.196142</td>\n",
       "      <td>0.016</td>\n",
       "      <td>0.087</td>\n",
       "      <td>13.45</td>\n",
       "    </tr>\n",
       "  </tbody>\n",
       "</table>\n",
       "<p>2 rows × 86 columns</p>\n",
       "</div>"
      ],
      "text/plain": [
       "  dialog_id speaker da_tag  function   pronoun     ppron    i   we  you  \\\n",
       "1    sw2005       A     sd      0.65  0.200000  0.150000  0.1  0.0  0.0   \n",
       "2    sw2005       A     sd      0.50  0.055556  0.055556  0.0  0.0  0.0   \n",
       "\n",
       "      shehe  ...  Max Pitch  Mean Pitch  Sd Pitch  Max Intensity  \\\n",
       "1  0.050000  ...    561.691       23.98    50.946         81.406   \n",
       "2  0.055556  ...    561.691       23.98    50.946         81.406   \n",
       "\n",
       "   Mean Intensity  Sd Intensity  Speaking Rate  Jitter  Shimmer    HNR  \n",
       "1            39.0        23.787      10.196142   0.016    0.087  13.45  \n",
       "2            39.0        23.787      10.196142   0.016    0.087  13.45  \n",
       "\n",
       "[2 rows x 86 columns]"
      ]
     },
     "execution_count": 2,
     "metadata": {},
     "output_type": "execute_result"
    }
   ],
   "source": [
    "# load combined dataset features\n",
    "train_df = pd.read_csv(\"combined_processed_train_filtered.csv\", index_col='Unnamed: 0')\n",
    "test_df = pd.read_csv(\"combined_processed_test_filtered.csv\", index_col='Unnamed: 0')\n",
    "train_df.head(2)"
   ]
  },
  {
   "cell_type": "markdown",
   "id": "df4b0eb8",
   "metadata": {},
   "source": [
    "## Train Model"
   ]
  },
  {
   "cell_type": "markdown",
   "id": "1a83ead7",
   "metadata": {},
   "source": [
    "### Speech Features Only"
   ]
  },
  {
   "cell_type": "markdown",
   "id": "1ee9ff65",
   "metadata": {},
   "source": [
    "#### Build Pipleline"
   ]
  },
  {
   "cell_type": "code",
   "execution_count": 3,
   "id": "e51bb7bc",
   "metadata": {},
   "outputs": [],
   "source": [
    "speech_features = ['Max Pitch','Mean Pitch','Sd Pitch','Max Intensity','Mean Intensity','Sd Intensity',\\\n",
    "                   'Speaking Rate','Jitter','Shimmer','HNR']"
   ]
  },
  {
   "cell_type": "code",
   "execution_count": 4,
   "id": "b97933d4",
   "metadata": {},
   "outputs": [],
   "source": [
    "# drop identifier features from dataframe\n",
    "features_to_discard = ['dialog_id', 'speaker', 'da_tag']  # training features\n",
    "target_features = ['da_tag']\n",
    "\n",
    "# normalize each numerical features and one hot encode target\n",
    "# pipeline both operations\n",
    "\n",
    "all_features = speech_features\n",
    "\n",
    "X_train, y_train = train_df.drop(features_to_discard, axis=1), train_df['da_tag']\n",
    "X_test, y_test = test_df.drop(features_to_discard, axis=1), test_df['da_tag']"
   ]
  },
  {
   "cell_type": "code",
   "execution_count": 5,
   "id": "90ee7193",
   "metadata": {},
   "outputs": [
    {
     "name": "stdout",
     "output_type": "stream",
     "text": [
      "{'%': array([1., 0., 0., 0., 0., 0., 0., 0., 0., 0.]), '+': array([0., 1., 0., 0., 0., 0., 0., 0., 0., 0.]), 'aa': array([0., 0., 1., 0., 0., 0., 0., 0., 0., 0.]), 'b': array([0., 0., 0., 1., 0., 0., 0., 0., 0., 0.]), 'ba': array([0., 0., 0., 0., 1., 0., 0., 0., 0., 0.]), 'qw': array([0., 0., 0., 0., 0., 1., 0., 0., 0., 0.]), 'qy': array([0., 0., 0., 0., 0., 0., 1., 0., 0., 0.]), 'sd': array([0., 0., 0., 0., 0., 0., 0., 1., 0., 0.]), 'sd^e': array([0., 0., 0., 0., 0., 0., 0., 0., 1., 0.]), 'sv': array([0., 0., 0., 0., 0., 0., 0., 0., 0., 1.])}\n"
     ]
    }
   ],
   "source": [
    "# perform scaling\n",
    "scaler = StandardScaler()\n",
    "X_train = scaler.fit_transform(X_train)\n",
    "X_test = scaler.transform(X_test)\n",
    "\n",
    "# 1 hot encode target variables\n",
    "y_train_dict = dict(list(zip(list(np.unique(y_train)), np.eye(10))))\n",
    "y_train_cateogical = np.array(list(map(lambda x: y_train_dict[x], y_train)))\n",
    "y_test_cateogical = np.array(list(map(lambda x: y_train_dict[x], y_test)))\n",
    "print(y_train_dict)"
   ]
  },
  {
   "cell_type": "markdown",
   "id": "4453666b",
   "metadata": {},
   "source": [
    "#### Train"
   ]
  },
  {
   "cell_type": "code",
   "execution_count": 6,
   "id": "79c0eb99",
   "metadata": {},
   "outputs": [
    {
     "name": "stderr",
     "output_type": "stream",
     "text": [
      "2022-10-30 20:12:41.239664: I tensorflow/core/platform/cpu_feature_guard.cc:193] This TensorFlow binary is optimized with oneAPI Deep Neural Network Library (oneDNN) to use the following CPU instructions in performance-critical operations:  SSE4.1 SSE4.2 AVX AVX2 AVX512F AVX512_VNNI FMA\n",
      "To enable them in other operations, rebuild TensorFlow with the appropriate compiler flags.\n"
     ]
    }
   ],
   "source": [
    "model_s = tf.keras.models.Sequential([\n",
    "  tf.keras.layers.Flatten(input_shape=(X_train.shape[1],)),\n",
    "  tf.keras.layers.Dense(128, activation='relu'),\n",
    "  tf.keras.layers.Dropout(0.5),\n",
    "  tf.keras.layers.Dense(32, activation='relu'),\n",
    "  tf.keras.layers.Dropout(0.5),\n",
    "  tf.keras.layers.Dense(10, activation='softmax')\n",
    "])\n",
    "\n",
    "\n",
    "loss_fn = tf.keras.losses.CategoricalCrossentropy(from_logits=False)\n",
    "\n",
    "model_s.compile(optimizer='adam',\n",
    "              loss=loss_fn,\n",
    "              metrics=['accuracy'])"
   ]
  },
  {
   "cell_type": "code",
   "execution_count": 7,
   "id": "458b8c0e",
   "metadata": {},
   "outputs": [
    {
     "name": "stdout",
     "output_type": "stream",
     "text": [
      "Epoch 1/50\n",
      "966/966 [==============================] - 2s 2ms/step - loss: 1.6653 - accuracy: 0.4840 - val_loss: 1.3478 - val_accuracy: 0.4849\n",
      "Epoch 2/50\n",
      "966/966 [==============================] - 1s 2ms/step - loss: 1.3984 - accuracy: 0.5269 - val_loss: 1.2318 - val_accuracy: 0.5096\n",
      "Epoch 3/50\n",
      "966/966 [==============================] - 2s 2ms/step - loss: 1.3046 - accuracy: 0.5420 - val_loss: 1.1804 - val_accuracy: 0.5195\n",
      "Epoch 4/50\n",
      "966/966 [==============================] - 2s 2ms/step - loss: 1.2635 - accuracy: 0.5501 - val_loss: 1.1610 - val_accuracy: 0.5250\n",
      "Epoch 5/50\n",
      "966/966 [==============================] - 2s 2ms/step - loss: 1.2311 - accuracy: 0.5557 - val_loss: 1.1355 - val_accuracy: 0.5428\n",
      "Epoch 6/50\n",
      "966/966 [==============================] - 2s 2ms/step - loss: 1.2068 - accuracy: 0.5640 - val_loss: 1.1225 - val_accuracy: 0.5417\n",
      "Epoch 7/50\n",
      "966/966 [==============================] - 2s 2ms/step - loss: 1.1875 - accuracy: 0.5695 - val_loss: 1.1216 - val_accuracy: 0.5400\n",
      "Epoch 8/50\n",
      "966/966 [==============================] - 2s 2ms/step - loss: 1.1717 - accuracy: 0.5747 - val_loss: 1.1135 - val_accuracy: 0.5401\n",
      "Epoch 9/50\n",
      "966/966 [==============================] - 2s 2ms/step - loss: 1.1655 - accuracy: 0.5746 - val_loss: 1.0941 - val_accuracy: 0.5531\n",
      "Epoch 10/50\n",
      "966/966 [==============================] - 2s 2ms/step - loss: 1.1542 - accuracy: 0.5777 - val_loss: 1.0908 - val_accuracy: 0.5617\n",
      "Epoch 11/50\n",
      "966/966 [==============================] - 2s 2ms/step - loss: 1.1500 - accuracy: 0.5801 - val_loss: 1.0828 - val_accuracy: 0.5651\n",
      "Epoch 12/50\n",
      "966/966 [==============================] - 2s 2ms/step - loss: 1.1438 - accuracy: 0.5837 - val_loss: 1.0861 - val_accuracy: 0.5553\n",
      "Epoch 13/50\n",
      "966/966 [==============================] - 2s 2ms/step - loss: 1.1381 - accuracy: 0.5816 - val_loss: 1.0901 - val_accuracy: 0.5559\n",
      "Epoch 14/50\n",
      "966/966 [==============================] - 2s 2ms/step - loss: 1.1348 - accuracy: 0.5871 - val_loss: 1.0789 - val_accuracy: 0.5651\n",
      "Epoch 15/50\n",
      "966/966 [==============================] - 2s 2ms/step - loss: 1.1296 - accuracy: 0.5871 - val_loss: 1.0795 - val_accuracy: 0.5582\n",
      "Epoch 16/50\n",
      "966/966 [==============================] - 2s 2ms/step - loss: 1.1263 - accuracy: 0.5882 - val_loss: 1.0777 - val_accuracy: 0.5633\n",
      "Epoch 17/50\n",
      "966/966 [==============================] - 2s 2ms/step - loss: 1.1237 - accuracy: 0.5896 - val_loss: 1.0763 - val_accuracy: 0.5564\n",
      "Epoch 18/50\n",
      "966/966 [==============================] - 2s 2ms/step - loss: 1.1190 - accuracy: 0.5920 - val_loss: 1.0659 - val_accuracy: 0.5799\n",
      "Epoch 19/50\n",
      "966/966 [==============================] - 2s 2ms/step - loss: 1.1195 - accuracy: 0.5922 - val_loss: 1.0686 - val_accuracy: 0.5746\n",
      "Epoch 20/50\n",
      "966/966 [==============================] - 2s 2ms/step - loss: 1.1161 - accuracy: 0.5929 - val_loss: 1.0706 - val_accuracy: 0.5746\n",
      "Epoch 21/50\n",
      "966/966 [==============================] - 2s 2ms/step - loss: 1.1073 - accuracy: 0.5954 - val_loss: 1.0616 - val_accuracy: 0.5841\n",
      "Epoch 22/50\n",
      "966/966 [==============================] - 2s 2ms/step - loss: 1.1031 - accuracy: 0.5946 - val_loss: 1.0614 - val_accuracy: 0.5857\n",
      "Epoch 23/50\n",
      "966/966 [==============================] - 2s 2ms/step - loss: 1.1058 - accuracy: 0.5934 - val_loss: 1.0666 - val_accuracy: 0.5786\n",
      "Epoch 24/50\n",
      "966/966 [==============================] - 2s 2ms/step - loss: 1.1048 - accuracy: 0.5931 - val_loss: 1.0636 - val_accuracy: 0.5721\n",
      "Epoch 25/50\n",
      "966/966 [==============================] - 2s 2ms/step - loss: 1.1006 - accuracy: 0.5972 - val_loss: 1.0740 - val_accuracy: 0.5601\n",
      "Epoch 26/50\n",
      "966/966 [==============================] - 2s 2ms/step - loss: 1.0966 - accuracy: 0.5974 - val_loss: 1.0611 - val_accuracy: 0.5761\n",
      "Epoch 27/50\n",
      "966/966 [==============================] - 2s 2ms/step - loss: 1.0943 - accuracy: 0.5965 - val_loss: 1.0686 - val_accuracy: 0.5714\n",
      "Epoch 28/50\n",
      "966/966 [==============================] - 2s 2ms/step - loss: 1.0903 - accuracy: 0.6024 - val_loss: 1.0620 - val_accuracy: 0.5824\n",
      "Epoch 29/50\n",
      "966/966 [==============================] - 2s 2ms/step - loss: 1.0935 - accuracy: 0.5986 - val_loss: 1.0611 - val_accuracy: 0.5801\n",
      "Epoch 30/50\n",
      "966/966 [==============================] - 2s 2ms/step - loss: 1.0938 - accuracy: 0.6005 - val_loss: 1.0508 - val_accuracy: 0.5888\n",
      "Epoch 31/50\n",
      "966/966 [==============================] - 2s 2ms/step - loss: 1.0925 - accuracy: 0.6011 - val_loss: 1.0621 - val_accuracy: 0.5800\n",
      "Epoch 32/50\n",
      "966/966 [==============================] - 2s 2ms/step - loss: 1.0921 - accuracy: 0.6018 - val_loss: 1.0574 - val_accuracy: 0.5876\n",
      "Epoch 33/50\n",
      "966/966 [==============================] - 2s 2ms/step - loss: 1.0834 - accuracy: 0.6053 - val_loss: 1.0566 - val_accuracy: 0.5801\n",
      "Epoch 34/50\n",
      "966/966 [==============================] - 2s 2ms/step - loss: 1.0908 - accuracy: 0.6023 - val_loss: 1.0577 - val_accuracy: 0.5792\n",
      "Epoch 35/50\n",
      "966/966 [==============================] - 2s 2ms/step - loss: 1.0858 - accuracy: 0.6038 - val_loss: 1.0649 - val_accuracy: 0.5743\n",
      "Epoch 36/50\n",
      "966/966 [==============================] - 2s 2ms/step - loss: 1.0855 - accuracy: 0.6012 - val_loss: 1.0550 - val_accuracy: 0.5840\n",
      "Epoch 37/50\n",
      "966/966 [==============================] - 2s 2ms/step - loss: 1.0877 - accuracy: 0.6044 - val_loss: 1.0551 - val_accuracy: 0.5898\n",
      "Epoch 38/50\n",
      "966/966 [==============================] - 2s 2ms/step - loss: 1.0783 - accuracy: 0.6043 - val_loss: 1.0590 - val_accuracy: 0.5813\n",
      "Epoch 39/50\n",
      "966/966 [==============================] - 2s 2ms/step - loss: 1.0845 - accuracy: 0.6008 - val_loss: 1.0559 - val_accuracy: 0.5845\n",
      "Epoch 40/50\n",
      "966/966 [==============================] - 2s 2ms/step - loss: 1.0809 - accuracy: 0.6053 - val_loss: 1.0518 - val_accuracy: 0.5903\n",
      "Epoch 41/50\n",
      "966/966 [==============================] - 2s 2ms/step - loss: 1.0766 - accuracy: 0.6085 - val_loss: 1.0566 - val_accuracy: 0.5907\n",
      "Epoch 42/50\n",
      "966/966 [==============================] - 2s 2ms/step - loss: 1.0812 - accuracy: 0.6021 - val_loss: 1.0583 - val_accuracy: 0.5878\n",
      "Epoch 43/50\n",
      "966/966 [==============================] - 2s 2ms/step - loss: 1.0810 - accuracy: 0.6064 - val_loss: 1.0625 - val_accuracy: 0.5797\n",
      "Epoch 44/50\n",
      "966/966 [==============================] - 2s 2ms/step - loss: 1.0835 - accuracy: 0.6068 - val_loss: 1.0577 - val_accuracy: 0.5880\n",
      "Epoch 45/50\n",
      "966/966 [==============================] - 2s 2ms/step - loss: 1.0802 - accuracy: 0.6055 - val_loss: 1.0598 - val_accuracy: 0.5858\n",
      "Epoch 46/50\n",
      "966/966 [==============================] - 2s 2ms/step - loss: 1.0719 - accuracy: 0.6085 - val_loss: 1.0502 - val_accuracy: 0.5958\n",
      "Epoch 47/50\n",
      "966/966 [==============================] - 2s 2ms/step - loss: 1.0786 - accuracy: 0.6032 - val_loss: 1.0572 - val_accuracy: 0.5914\n",
      "Epoch 48/50\n",
      "966/966 [==============================] - 2s 2ms/step - loss: 1.0820 - accuracy: 0.6059 - val_loss: 1.0560 - val_accuracy: 0.5876\n",
      "Epoch 49/50\n",
      "966/966 [==============================] - 2s 2ms/step - loss: 1.0759 - accuracy: 0.6093 - val_loss: 1.0610 - val_accuracy: 0.5906\n",
      "Epoch 50/50\n",
      "966/966 [==============================] - 2s 2ms/step - loss: 1.0759 - accuracy: 0.6099 - val_loss: 1.0599 - val_accuracy: 0.5870\n"
     ]
    }
   ],
   "source": [
    "history_s = model_s.fit(X_train, y_train_cateogical, epochs=50, verbose=1, validation_split=0.2)"
   ]
  },
  {
   "cell_type": "markdown",
   "id": "a9d52eb8",
   "metadata": {
    "heading_collapsed": true
   },
   "source": [
    "### Text Features Only"
   ]
  },
  {
   "cell_type": "markdown",
   "id": "2f6ffda3",
   "metadata": {
    "hidden": true
   },
   "source": [
    "#### Build Pipleline"
   ]
  },
  {
   "cell_type": "code",
   "execution_count": 8,
   "id": "851bf9ae",
   "metadata": {
    "hidden": true
   },
   "outputs": [],
   "source": [
    "text_features = ['function','pronoun','ppron','i','we','you','shehe','they','ipron','article','prep','auxverb',\\\n",
    "                 'adverb','conj','negate','verb','adj','compare','interrog','number','quant','affect','posemo',\\\n",
    "                 'negemo','anx','anger','sad','social','family','friend','female','male','cogproc','insight',\\\n",
    "                 'cause','discrep','tentat','certain','differ','percept','see','hear','feel','bio','body',\\\n",
    "                 'health','sexual','ingest','drives','affiliation','achieve','power','reward','risk','focuspast',\\\n",
    "                 'focuspresent','focusfuture','relativ','motion','space','time','work','leisure','home','money',\\\n",
    "                 'relig','death','informal','swear','netspeak','assent','nonflu','filler']"
   ]
  },
  {
   "cell_type": "code",
   "execution_count": 9,
   "id": "a123e19d",
   "metadata": {
    "hidden": true
   },
   "outputs": [],
   "source": [
    "# drop identifier features from dataframe\n",
    "features_to_discard = ['dialog_id', 'speaker', 'da_tag']  # training features\n",
    "target_features = ['da_tag']\n",
    "\n",
    "# normalize each numerical features and one hot encode target\n",
    "# pipeline both operations\n",
    "\n",
    "all_features = speech_features\n",
    "\n",
    "X_train = train_df.drop(features_to_discard, axis=1)\n",
    "X_test = test_df.drop(features_to_discard, axis=1)"
   ]
  },
  {
   "cell_type": "code",
   "execution_count": 10,
   "id": "363f7596",
   "metadata": {
    "hidden": true
   },
   "outputs": [
    {
     "name": "stdout",
     "output_type": "stream",
     "text": [
      "{'%': array([1., 0., 0., 0., 0., 0., 0., 0., 0., 0.]), '+': array([0., 1., 0., 0., 0., 0., 0., 0., 0., 0.]), 'aa': array([0., 0., 1., 0., 0., 0., 0., 0., 0., 0.]), 'b': array([0., 0., 0., 1., 0., 0., 0., 0., 0., 0.]), 'ba': array([0., 0., 0., 0., 1., 0., 0., 0., 0., 0.]), 'qw': array([0., 0., 0., 0., 0., 1., 0., 0., 0., 0.]), 'qy': array([0., 0., 0., 0., 0., 0., 1., 0., 0., 0.]), 'sd': array([0., 0., 0., 0., 0., 0., 0., 1., 0., 0.]), 'sd^e': array([0., 0., 0., 0., 0., 0., 0., 0., 1., 0.]), 'sv': array([0., 0., 0., 0., 0., 0., 0., 0., 0., 1.])}\n"
     ]
    }
   ],
   "source": [
    "# perform scaling\n",
    "scaler = StandardScaler()\n",
    "X_train = scaler.fit_transform(X_train)\n",
    "X_test = scaler.transform(X_test)\n",
    "\n",
    "# 1 hot encode target variables\n",
    "y_train_cateogical = np.array(list(map(lambda x: y_train_dict[x], y_train)))\n",
    "print(y_train_dict)"
   ]
  },
  {
   "cell_type": "markdown",
   "id": "fd7081e1",
   "metadata": {
    "hidden": true
   },
   "source": [
    "#### Train"
   ]
  },
  {
   "cell_type": "code",
   "execution_count": 11,
   "id": "c1abd5ac",
   "metadata": {
    "hidden": true
   },
   "outputs": [],
   "source": [
    "model_t = tf.keras.models.Sequential([\n",
    "  tf.keras.layers.Flatten(input_shape=(X_train.shape[1],)),\n",
    "  tf.keras.layers.Dense(128, activation='relu'),\n",
    "  tf.keras.layers.Dropout(0.5),\n",
    "  tf.keras.layers.Dense(32, activation='relu'),\n",
    "  tf.keras.layers.Dropout(0.5),\n",
    "  tf.keras.layers.Dense(10, activation='softmax')\n",
    "])\n",
    "\n",
    "\n",
    "loss_fn = tf.keras.losses.CategoricalCrossentropy(from_logits=False)\n",
    "\n",
    "model_t.compile(optimizer='adam',\n",
    "              loss=loss_fn,\n",
    "              metrics=['accuracy'])"
   ]
  },
  {
   "cell_type": "code",
   "execution_count": 12,
   "id": "c64a7db3",
   "metadata": {
    "hidden": true
   },
   "outputs": [
    {
     "name": "stdout",
     "output_type": "stream",
     "text": [
      "Epoch 1/50\n",
      "966/966 [==============================] - 2s 2ms/step - loss: 1.6552 - accuracy: 0.4847 - val_loss: 1.3348 - val_accuracy: 0.4959\n",
      "Epoch 2/50\n",
      "966/966 [==============================] - 2s 2ms/step - loss: 1.3853 - accuracy: 0.5357 - val_loss: 1.2470 - val_accuracy: 0.5097\n",
      "Epoch 3/50\n",
      "966/966 [==============================] - 2s 2ms/step - loss: 1.3062 - accuracy: 0.5481 - val_loss: 1.1945 - val_accuracy: 0.5216\n",
      "Epoch 4/50\n",
      "966/966 [==============================] - 2s 2ms/step - loss: 1.2620 - accuracy: 0.5573 - val_loss: 1.1756 - val_accuracy: 0.5281\n",
      "Epoch 5/50\n",
      "966/966 [==============================] - 2s 2ms/step - loss: 1.2336 - accuracy: 0.5600 - val_loss: 1.1537 - val_accuracy: 0.5313\n",
      "Epoch 6/50\n",
      "966/966 [==============================] - 2s 2ms/step - loss: 1.2151 - accuracy: 0.5661 - val_loss: 1.1430 - val_accuracy: 0.5316\n",
      "Epoch 7/50\n",
      "966/966 [==============================] - 2s 2ms/step - loss: 1.1954 - accuracy: 0.5729 - val_loss: 1.1138 - val_accuracy: 0.5459\n",
      "Epoch 8/50\n",
      "966/966 [==============================] - 2s 2ms/step - loss: 1.1828 - accuracy: 0.5732 - val_loss: 1.1178 - val_accuracy: 0.5408\n",
      "Epoch 9/50\n",
      "966/966 [==============================] - 2s 2ms/step - loss: 1.1752 - accuracy: 0.5770 - val_loss: 1.1122 - val_accuracy: 0.5447\n",
      "Epoch 10/50\n",
      "966/966 [==============================] - 2s 2ms/step - loss: 1.1641 - accuracy: 0.5800 - val_loss: 1.0997 - val_accuracy: 0.5564\n",
      "Epoch 11/50\n",
      "966/966 [==============================] - 1s 2ms/step - loss: 1.1615 - accuracy: 0.5795 - val_loss: 1.0928 - val_accuracy: 0.5619\n",
      "Epoch 12/50\n",
      "966/966 [==============================] - 2s 2ms/step - loss: 1.1515 - accuracy: 0.5850 - val_loss: 1.0879 - val_accuracy: 0.5585\n",
      "Epoch 13/50\n",
      "966/966 [==============================] - 2s 2ms/step - loss: 1.1464 - accuracy: 0.5861 - val_loss: 1.0866 - val_accuracy: 0.5647\n",
      "Epoch 14/50\n",
      "966/966 [==============================] - 2s 2ms/step - loss: 1.1376 - accuracy: 0.5884 - val_loss: 1.0910 - val_accuracy: 0.5602\n",
      "Epoch 15/50\n",
      "966/966 [==============================] - 2s 2ms/step - loss: 1.1383 - accuracy: 0.5867 - val_loss: 1.0832 - val_accuracy: 0.5558\n",
      "Epoch 16/50\n",
      "966/966 [==============================] - 2s 2ms/step - loss: 1.1276 - accuracy: 0.5909 - val_loss: 1.0798 - val_accuracy: 0.5641\n",
      "Epoch 17/50\n",
      "966/966 [==============================] - 2s 2ms/step - loss: 1.1285 - accuracy: 0.5938 - val_loss: 1.0744 - val_accuracy: 0.5598\n",
      "Epoch 18/50\n",
      "966/966 [==============================] - 2s 2ms/step - loss: 1.1237 - accuracy: 0.5932 - val_loss: 1.0817 - val_accuracy: 0.5601\n",
      "Epoch 19/50\n",
      "966/966 [==============================] - 2s 2ms/step - loss: 1.1190 - accuracy: 0.5948 - val_loss: 1.0735 - val_accuracy: 0.5624\n",
      "Epoch 20/50\n",
      "966/966 [==============================] - 2s 2ms/step - loss: 1.1165 - accuracy: 0.5943 - val_loss: 1.0806 - val_accuracy: 0.5562\n",
      "Epoch 21/50\n",
      "966/966 [==============================] - 2s 2ms/step - loss: 1.1142 - accuracy: 0.5971 - val_loss: 1.0692 - val_accuracy: 0.5713\n",
      "Epoch 22/50\n",
      "966/966 [==============================] - 2s 2ms/step - loss: 1.1109 - accuracy: 0.5944 - val_loss: 1.0640 - val_accuracy: 0.5699\n",
      "Epoch 23/50\n",
      "966/966 [==============================] - 2s 2ms/step - loss: 1.1081 - accuracy: 0.5980 - val_loss: 1.0680 - val_accuracy: 0.5642\n",
      "Epoch 24/50\n",
      "966/966 [==============================] - 2s 2ms/step - loss: 1.1070 - accuracy: 0.5949 - val_loss: 1.0716 - val_accuracy: 0.5658\n",
      "Epoch 25/50\n",
      "966/966 [==============================] - 2s 2ms/step - loss: 1.1057 - accuracy: 0.5991 - val_loss: 1.0635 - val_accuracy: 0.5720\n",
      "Epoch 26/50\n",
      "966/966 [==============================] - 2s 2ms/step - loss: 1.0984 - accuracy: 0.5989 - val_loss: 1.0636 - val_accuracy: 0.5764\n",
      "Epoch 27/50\n",
      "966/966 [==============================] - 1s 2ms/step - loss: 1.0978 - accuracy: 0.6006 - val_loss: 1.0671 - val_accuracy: 0.5726\n",
      "Epoch 28/50\n",
      "966/966 [==============================] - 1s 2ms/step - loss: 1.1020 - accuracy: 0.6000 - val_loss: 1.0621 - val_accuracy: 0.5783\n",
      "Epoch 29/50\n",
      "966/966 [==============================] - 2s 2ms/step - loss: 1.0972 - accuracy: 0.5969 - val_loss: 1.0562 - val_accuracy: 0.5850\n",
      "Epoch 30/50\n",
      "966/966 [==============================] - 2s 2ms/step - loss: 1.0973 - accuracy: 0.6021 - val_loss: 1.0611 - val_accuracy: 0.5764\n",
      "Epoch 31/50\n",
      "966/966 [==============================] - 2s 2ms/step - loss: 1.0949 - accuracy: 0.6041 - val_loss: 1.0638 - val_accuracy: 0.5761\n",
      "Epoch 32/50\n",
      "966/966 [==============================] - 2s 2ms/step - loss: 1.0976 - accuracy: 0.5990 - val_loss: 1.0600 - val_accuracy: 0.5814\n",
      "Epoch 33/50\n",
      "966/966 [==============================] - 2s 2ms/step - loss: 1.0883 - accuracy: 0.6018 - val_loss: 1.0609 - val_accuracy: 0.5784\n",
      "Epoch 34/50\n",
      "966/966 [==============================] - 2s 2ms/step - loss: 1.0935 - accuracy: 0.6052 - val_loss: 1.0674 - val_accuracy: 0.5795\n",
      "Epoch 35/50\n",
      "966/966 [==============================] - 2s 2ms/step - loss: 1.0883 - accuracy: 0.6020 - val_loss: 1.0703 - val_accuracy: 0.5643\n",
      "Epoch 36/50\n",
      "966/966 [==============================] - 2s 2ms/step - loss: 1.0906 - accuracy: 0.6029 - val_loss: 1.0674 - val_accuracy: 0.5746\n",
      "Epoch 37/50\n",
      "966/966 [==============================] - 2s 2ms/step - loss: 1.0891 - accuracy: 0.6046 - val_loss: 1.0657 - val_accuracy: 0.5744\n",
      "Epoch 38/50\n",
      "966/966 [==============================] - 2s 2ms/step - loss: 1.0839 - accuracy: 0.6059 - val_loss: 1.0565 - val_accuracy: 0.5885\n",
      "Epoch 39/50\n",
      "966/966 [==============================] - 2s 2ms/step - loss: 1.0854 - accuracy: 0.6036 - val_loss: 1.0618 - val_accuracy: 0.5740\n",
      "Epoch 40/50\n",
      "966/966 [==============================] - 2s 2ms/step - loss: 1.0863 - accuracy: 0.6044 - val_loss: 1.0650 - val_accuracy: 0.5713\n",
      "Epoch 41/50\n",
      "966/966 [==============================] - 2s 2ms/step - loss: 1.0857 - accuracy: 0.6029 - val_loss: 1.0582 - val_accuracy: 0.5872\n",
      "Epoch 42/50\n",
      "966/966 [==============================] - 2s 2ms/step - loss: 1.0761 - accuracy: 0.6069 - val_loss: 1.0527 - val_accuracy: 0.5826\n",
      "Epoch 43/50\n",
      "966/966 [==============================] - 2s 2ms/step - loss: 1.0831 - accuracy: 0.6066 - val_loss: 1.0658 - val_accuracy: 0.5738\n",
      "Epoch 44/50\n",
      "966/966 [==============================] - 2s 2ms/step - loss: 1.0812 - accuracy: 0.6070 - val_loss: 1.0572 - val_accuracy: 0.5840\n",
      "Epoch 45/50\n",
      "966/966 [==============================] - 1s 2ms/step - loss: 1.0801 - accuracy: 0.6073 - val_loss: 1.0636 - val_accuracy: 0.5718\n",
      "Epoch 46/50\n",
      "966/966 [==============================] - 2s 2ms/step - loss: 1.0815 - accuracy: 0.6060 - val_loss: 1.0652 - val_accuracy: 0.5731\n",
      "Epoch 47/50\n",
      "966/966 [==============================] - 2s 2ms/step - loss: 1.0822 - accuracy: 0.6053 - val_loss: 1.0599 - val_accuracy: 0.5822\n",
      "Epoch 48/50\n",
      "966/966 [==============================] - 2s 2ms/step - loss: 1.0814 - accuracy: 0.6038 - val_loss: 1.0652 - val_accuracy: 0.5762\n",
      "Epoch 49/50\n",
      "966/966 [==============================] - 2s 2ms/step - loss: 1.0865 - accuracy: 0.6073 - val_loss: 1.0623 - val_accuracy: 0.5774\n",
      "Epoch 50/50\n",
      "966/966 [==============================] - 2s 2ms/step - loss: 1.0785 - accuracy: 0.6068 - val_loss: 1.0613 - val_accuracy: 0.5830\n"
     ]
    }
   ],
   "source": [
    "history_t = model_t.fit(X_train, y_train_cateogical, epochs=50, verbose=1, validation_split=0.2)"
   ]
  },
  {
   "cell_type": "markdown",
   "id": "1ae33212",
   "metadata": {
    "heading_collapsed": true
   },
   "source": [
    "### Speech + Text Features"
   ]
  },
  {
   "cell_type": "markdown",
   "id": "fe36c20f",
   "metadata": {
    "hidden": true
   },
   "source": [
    "#### Build Pipleline"
   ]
  },
  {
   "cell_type": "code",
   "execution_count": 13,
   "id": "ce884feb",
   "metadata": {
    "hidden": true
   },
   "outputs": [],
   "source": [
    "# drop identifier features from dataframe\n",
    "features_to_discard = ['dialog_id', 'speaker', 'da_tag']  # training features\n",
    "target_features = ['da_tag']\n",
    "\n",
    "# normalize each numerical features and one hot encode target\n",
    "# pipeline both operations\n",
    "\n",
    "all_features = list(train_df.columns)\n",
    "\n",
    "X_train = train_df.drop(features_to_discard, axis=1)\n",
    "X_test = test_df.drop(features_to_discard, axis=1)"
   ]
  },
  {
   "cell_type": "markdown",
   "id": "34876df3",
   "metadata": {
    "hidden": true
   },
   "source": [
    "Scale the features and one hot encode target:"
   ]
  },
  {
   "cell_type": "code",
   "execution_count": 14,
   "id": "f9c7566f",
   "metadata": {
    "hidden": true
   },
   "outputs": [
    {
     "name": "stdout",
     "output_type": "stream",
     "text": [
      "{'%': array([1., 0., 0., 0., 0., 0., 0., 0., 0., 0.]), '+': array([0., 1., 0., 0., 0., 0., 0., 0., 0., 0.]), 'aa': array([0., 0., 1., 0., 0., 0., 0., 0., 0., 0.]), 'b': array([0., 0., 0., 1., 0., 0., 0., 0., 0., 0.]), 'ba': array([0., 0., 0., 0., 1., 0., 0., 0., 0., 0.]), 'qw': array([0., 0., 0., 0., 0., 1., 0., 0., 0., 0.]), 'qy': array([0., 0., 0., 0., 0., 0., 1., 0., 0., 0.]), 'sd': array([0., 0., 0., 0., 0., 0., 0., 1., 0., 0.]), 'sd^e': array([0., 0., 0., 0., 0., 0., 0., 0., 1., 0.]), 'sv': array([0., 0., 0., 0., 0., 0., 0., 0., 0., 1.])}\n"
     ]
    }
   ],
   "source": [
    "# perform scaling\n",
    "scaler = StandardScaler()\n",
    "X_train = scaler.fit_transform(X_train)\n",
    "X_test = scaler.transform(X_test)\n",
    "\n",
    "# 1 hot encode target variables\n",
    "y_train_cateogical = np.array(list(map(lambda x: y_train_dict[x], y_train)))\n",
    "print(y_train_dict)"
   ]
  },
  {
   "cell_type": "markdown",
   "id": "85cac517",
   "metadata": {
    "hidden": true
   },
   "source": [
    "#### Train"
   ]
  },
  {
   "cell_type": "code",
   "execution_count": 15,
   "id": "7d388327",
   "metadata": {
    "hidden": true
   },
   "outputs": [],
   "source": [
    "model_ts = tf.keras.models.Sequential([\n",
    "  tf.keras.layers.Flatten(input_shape=(X_train.shape[1],)),\n",
    "  tf.keras.layers.Dense(128, activation='relu'),\n",
    "  tf.keras.layers.Dropout(0.5),\n",
    "  tf.keras.layers.Dense(32, activation='relu'),\n",
    "  tf.keras.layers.Dropout(0.5),\n",
    "  tf.keras.layers.Dense(10, activation='softmax')\n",
    "])\n",
    "\n",
    "\n",
    "loss_fn = tf.keras.losses.CategoricalCrossentropy(from_logits=False)\n",
    "\n",
    "model_ts.compile(optimizer='adam',\n",
    "              loss=loss_fn,\n",
    "              metrics=['accuracy'])"
   ]
  },
  {
   "cell_type": "code",
   "execution_count": 16,
   "id": "ba92509d",
   "metadata": {
    "hidden": true
   },
   "outputs": [
    {
     "name": "stdout",
     "output_type": "stream",
     "text": [
      "Epoch 1/50\n",
      "966/966 [==============================] - 3s 2ms/step - loss: 1.6359 - accuracy: 0.4839 - val_loss: 1.3197 - val_accuracy: 0.4991\n",
      "Epoch 2/50\n",
      "966/966 [==============================] - 2s 2ms/step - loss: 1.3634 - accuracy: 0.5397 - val_loss: 1.2320 - val_accuracy: 0.5075\n",
      "Epoch 3/50\n",
      "966/966 [==============================] - 2s 2ms/step - loss: 1.2868 - accuracy: 0.5501 - val_loss: 1.1834 - val_accuracy: 0.5198\n",
      "Epoch 4/50\n",
      "966/966 [==============================] - 2s 2ms/step - loss: 1.2584 - accuracy: 0.5536 - val_loss: 1.1558 - val_accuracy: 0.5242\n",
      "Epoch 5/50\n",
      "966/966 [==============================] - 2s 2ms/step - loss: 1.2237 - accuracy: 0.5626 - val_loss: 1.1464 - val_accuracy: 0.5227\n",
      "Epoch 6/50\n",
      "966/966 [==============================] - 2s 2ms/step - loss: 1.2028 - accuracy: 0.5703 - val_loss: 1.1186 - val_accuracy: 0.5444\n",
      "Epoch 7/50\n",
      "966/966 [==============================] - 2s 2ms/step - loss: 1.1851 - accuracy: 0.5743 - val_loss: 1.1165 - val_accuracy: 0.5381\n",
      "Epoch 8/50\n",
      "966/966 [==============================] - 2s 2ms/step - loss: 1.1751 - accuracy: 0.5737 - val_loss: 1.1054 - val_accuracy: 0.5419\n",
      "Epoch 9/50\n",
      "966/966 [==============================] - 2s 2ms/step - loss: 1.1719 - accuracy: 0.5778 - val_loss: 1.1093 - val_accuracy: 0.5435\n",
      "Epoch 10/50\n",
      "966/966 [==============================] - 2s 2ms/step - loss: 1.1591 - accuracy: 0.5805 - val_loss: 1.0823 - val_accuracy: 0.5685\n",
      "Epoch 11/50\n",
      "966/966 [==============================] - 2s 2ms/step - loss: 1.1501 - accuracy: 0.5840 - val_loss: 1.0919 - val_accuracy: 0.5579\n",
      "Epoch 12/50\n",
      "966/966 [==============================] - 2s 2ms/step - loss: 1.1444 - accuracy: 0.5865 - val_loss: 1.0851 - val_accuracy: 0.5550\n",
      "Epoch 13/50\n",
      "966/966 [==============================] - 2s 2ms/step - loss: 1.1401 - accuracy: 0.5846 - val_loss: 1.0799 - val_accuracy: 0.5601\n",
      "Epoch 14/50\n",
      "966/966 [==============================] - 2s 2ms/step - loss: 1.1356 - accuracy: 0.5849 - val_loss: 1.0725 - val_accuracy: 0.5670\n",
      "Epoch 15/50\n",
      "966/966 [==============================] - 2s 2ms/step - loss: 1.1325 - accuracy: 0.5925 - val_loss: 1.0852 - val_accuracy: 0.5566\n",
      "Epoch 16/50\n",
      "966/966 [==============================] - 2s 2ms/step - loss: 1.1233 - accuracy: 0.5925 - val_loss: 1.0678 - val_accuracy: 0.5740\n",
      "Epoch 17/50\n",
      "966/966 [==============================] - 2s 2ms/step - loss: 1.1242 - accuracy: 0.5936 - val_loss: 1.0707 - val_accuracy: 0.5709\n",
      "Epoch 18/50\n",
      "966/966 [==============================] - 2s 2ms/step - loss: 1.1193 - accuracy: 0.5943 - val_loss: 1.0662 - val_accuracy: 0.5692\n",
      "Epoch 19/50\n",
      "966/966 [==============================] - 2s 2ms/step - loss: 1.1193 - accuracy: 0.5943 - val_loss: 1.0670 - val_accuracy: 0.5720\n",
      "Epoch 20/50\n",
      "966/966 [==============================] - 2s 3ms/step - loss: 1.1125 - accuracy: 0.5971 - val_loss: 1.0686 - val_accuracy: 0.5691\n",
      "Epoch 21/50\n",
      "966/966 [==============================] - 2s 2ms/step - loss: 1.1131 - accuracy: 0.5968 - val_loss: 1.0709 - val_accuracy: 0.5720\n",
      "Epoch 22/50\n",
      "966/966 [==============================] - 2s 2ms/step - loss: 1.1077 - accuracy: 0.5970 - val_loss: 1.0671 - val_accuracy: 0.5761\n",
      "Epoch 23/50\n",
      "966/966 [==============================] - 2s 2ms/step - loss: 1.1081 - accuracy: 0.5973 - val_loss: 1.0627 - val_accuracy: 0.5762\n",
      "Epoch 24/50\n",
      "966/966 [==============================] - 2s 2ms/step - loss: 1.1096 - accuracy: 0.5998 - val_loss: 1.0768 - val_accuracy: 0.5677\n",
      "Epoch 25/50\n",
      "966/966 [==============================] - 2s 2ms/step - loss: 1.0991 - accuracy: 0.6012 - val_loss: 1.0665 - val_accuracy: 0.5770\n",
      "Epoch 26/50\n",
      "966/966 [==============================] - 2s 2ms/step - loss: 1.1020 - accuracy: 0.6012 - val_loss: 1.0582 - val_accuracy: 0.5841\n",
      "Epoch 27/50\n",
      "966/966 [==============================] - 2s 2ms/step - loss: 1.0980 - accuracy: 0.6002 - val_loss: 1.0617 - val_accuracy: 0.5810\n",
      "Epoch 28/50\n",
      "966/966 [==============================] - 2s 2ms/step - loss: 1.0965 - accuracy: 0.6001 - val_loss: 1.0719 - val_accuracy: 0.5696\n",
      "Epoch 29/50\n",
      "966/966 [==============================] - 2s 2ms/step - loss: 1.0979 - accuracy: 0.6000 - val_loss: 1.0774 - val_accuracy: 0.5611\n",
      "Epoch 30/50\n",
      "966/966 [==============================] - 2s 2ms/step - loss: 1.0991 - accuracy: 0.6009 - val_loss: 1.0617 - val_accuracy: 0.5775\n",
      "Epoch 31/50\n",
      "966/966 [==============================] - 2s 2ms/step - loss: 1.0944 - accuracy: 0.6046 - val_loss: 1.0626 - val_accuracy: 0.5714\n",
      "Epoch 32/50\n",
      "966/966 [==============================] - 2s 2ms/step - loss: 1.0939 - accuracy: 0.6008 - val_loss: 1.0615 - val_accuracy: 0.5795\n",
      "Epoch 33/50\n",
      "966/966 [==============================] - 2s 2ms/step - loss: 1.0921 - accuracy: 0.6033 - val_loss: 1.0632 - val_accuracy: 0.5783\n",
      "Epoch 34/50\n",
      "966/966 [==============================] - 2s 2ms/step - loss: 1.0876 - accuracy: 0.6026 - val_loss: 1.0511 - val_accuracy: 0.5883\n",
      "Epoch 35/50\n",
      "966/966 [==============================] - 2s 2ms/step - loss: 1.0897 - accuracy: 0.6038 - val_loss: 1.0561 - val_accuracy: 0.5878\n",
      "Epoch 36/50\n",
      "966/966 [==============================] - 2s 2ms/step - loss: 1.0942 - accuracy: 0.6029 - val_loss: 1.0593 - val_accuracy: 0.5779\n",
      "Epoch 37/50\n",
      "966/966 [==============================] - 2s 2ms/step - loss: 1.0880 - accuracy: 0.6029 - val_loss: 1.0535 - val_accuracy: 0.5840\n",
      "Epoch 38/50\n",
      "966/966 [==============================] - 2s 2ms/step - loss: 1.0841 - accuracy: 0.6046 - val_loss: 1.0551 - val_accuracy: 0.5837\n",
      "Epoch 39/50\n",
      "966/966 [==============================] - 2s 2ms/step - loss: 1.0864 - accuracy: 0.6055 - val_loss: 1.0596 - val_accuracy: 0.5788\n",
      "Epoch 40/50\n",
      "966/966 [==============================] - 2s 2ms/step - loss: 1.0866 - accuracy: 0.6050 - val_loss: 1.0584 - val_accuracy: 0.5822\n",
      "Epoch 41/50\n",
      "966/966 [==============================] - 2s 2ms/step - loss: 1.0833 - accuracy: 0.6046 - val_loss: 1.0638 - val_accuracy: 0.5812\n",
      "Epoch 42/50\n",
      "966/966 [==============================] - 2s 2ms/step - loss: 1.0840 - accuracy: 0.6082 - val_loss: 1.0585 - val_accuracy: 0.5799\n",
      "Epoch 43/50\n",
      "966/966 [==============================] - 2s 2ms/step - loss: 1.0830 - accuracy: 0.6074 - val_loss: 1.0595 - val_accuracy: 0.5805\n",
      "Epoch 44/50\n",
      "966/966 [==============================] - 2s 2ms/step - loss: 1.0781 - accuracy: 0.6081 - val_loss: 1.0564 - val_accuracy: 0.5810\n",
      "Epoch 45/50\n",
      "966/966 [==============================] - 2s 2ms/step - loss: 1.0799 - accuracy: 0.6063 - val_loss: 1.0546 - val_accuracy: 0.5871\n",
      "Epoch 46/50\n",
      "966/966 [==============================] - 2s 2ms/step - loss: 1.0756 - accuracy: 0.6084 - val_loss: 1.0598 - val_accuracy: 0.5828\n",
      "Epoch 47/50\n",
      "966/966 [==============================] - 2s 2ms/step - loss: 1.0742 - accuracy: 0.6090 - val_loss: 1.0592 - val_accuracy: 0.5795\n",
      "Epoch 48/50\n",
      "966/966 [==============================] - 2s 2ms/step - loss: 1.0759 - accuracy: 0.6087 - val_loss: 1.0551 - val_accuracy: 0.5854\n",
      "Epoch 49/50\n",
      "966/966 [==============================] - 2s 2ms/step - loss: 1.0726 - accuracy: 0.6096 - val_loss: 1.0519 - val_accuracy: 0.5852\n",
      "Epoch 50/50\n",
      "966/966 [==============================] - 2s 2ms/step - loss: 1.0747 - accuracy: 0.6092 - val_loss: 1.0559 - val_accuracy: 0.5850\n"
     ]
    }
   ],
   "source": [
    "history_ts = model_ts.fit(X_train, y_train_cateogical, epochs=50, verbose=1, validation_split=0.2)"
   ]
  },
  {
   "cell_type": "markdown",
   "id": "7436060a",
   "metadata": {
    "heading_collapsed": true
   },
   "source": [
    "# Model Tests"
   ]
  },
  {
   "cell_type": "code",
   "execution_count": 59,
   "id": "2d1a6dee",
   "metadata": {
    "hidden": true
   },
   "outputs": [],
   "source": [
    "from sklearn.metrics import accuracy_score\n",
    "from sklearn.metrics import f1_score\n",
    "from sklearn.metrics import confusion_matrix, ConfusionMatrixDisplay\n",
    "import matplotlib.pyplot as plt\n",
    "from sklearn.metrics import classification_report"
   ]
  },
  {
   "cell_type": "markdown",
   "id": "f397eae4",
   "metadata": {
    "hidden": true
   },
   "source": [
    "## Accuracy & F1"
   ]
  },
  {
   "cell_type": "code",
   "execution_count": 45,
   "id": "04374352",
   "metadata": {
    "hidden": true
   },
   "outputs": [
    {
     "name": "stdout",
     "output_type": "stream",
     "text": [
      "298/298 [==============================] - 0s 942us/step\n",
      "298/298 [==============================] - 0s 843us/step\n",
      "298/298 [==============================] - 0s 1ms/step\n",
      "[0.64, 0.635, 0.644] [0.477, 0.471, 0.488]\n"
     ]
    }
   ],
   "source": [
    "# compute acc and f1\n",
    "y_preds, acc, f1 = [], [], []\n",
    "all_models = [model_s, model_t, model_ts]\n",
    "for model in all_models:\n",
    "    y_pred = model.predict(X_test)\n",
    "    y_preds.append(np.argmax(y_pred, axis=1))\n",
    "    acc.append(accuracy_score(np.argmax(y_test_cateogical, axis=1), np.argmax(y_pred, axis=1)))\n",
    "    f1.append(f1_score(np.argmax(y_test_cateogical, axis=1), np.argmax(y_pred, axis=1), average='macro'))\n",
    "    \n",
    "print(list(map(lambda x: round(x,3), acc)), list(map(lambda x: round(x,3), f1)))"
   ]
  },
  {
   "cell_type": "markdown",
   "id": "6940d1c9",
   "metadata": {
    "hidden": true
   },
   "source": [
    "<b>Result:</b>"
   ]
  },
  {
   "cell_type": "markdown",
   "id": "7dbdd72f",
   "metadata": {
    "hidden": true
   },
   "source": [
    "| Model | Accuracy | F1 |\n",
    "| :- | -: | :-: |\n",
    "| Speech | 0.64 | 0.477\n",
    "| Text | 0.635 | 0.471\n",
    "| Speech+Text | 0.644 | 0.488"
   ]
  },
  {
   "cell_type": "markdown",
   "id": "c44d8e2b",
   "metadata": {
    "hidden": true
   },
   "source": [
    "## Model Analysis"
   ]
  },
  {
   "cell_type": "markdown",
   "id": "de46d80a",
   "metadata": {
    "hidden": true
   },
   "source": [
    "### a) Which feature set performed the best?\n",
    "\n",
    "Speech+Text combined performs the best, but speech performs slightly better than text."
   ]
  },
  {
   "cell_type": "markdown",
   "id": "3fec1edc",
   "metadata": {
    "hidden": true
   },
   "source": [
    "### b) Show the confusion matrix."
   ]
  },
  {
   "cell_type": "code",
   "execution_count": 60,
   "id": "63af5484",
   "metadata": {
    "hidden": true
   },
   "outputs": [
    {
     "data": {
      "image/png": "[encoded data removed]",
      "text/plain": [
       "<Figure size 640x480 with 2 Axes>"
      ]
     },
     "metadata": {},
     "output_type": "display_data"
    }
   ],
   "source": [
    "cm = confusion_matrix(np.argmax(y_test_cateogical, axis=1), y_preds[2])\n",
    "disp = ConfusionMatrixDisplay(confusion_matrix=cm, display_labels=y_train_dict)\n",
    "disp.plot()\n",
    "plt.show()"
   ]
  },
  {
   "cell_type": "markdown",
   "id": "5b407a82",
   "metadata": {
    "hidden": true
   },
   "source": [
    "### c) Which class(es) were easiest to predict? Why do you think they were easy?\n",
    "\n",
    "According to the diagram below, we can see tag b has the highest precision, recall, and f1 (tag b is Acknowledge). Classes such as sd also has a high f1 score. These classes are easier to predict than other classes might be because they have much more audio clues and text clues. For example, acknowledgement might have a significantly high intensity than other tags."
   ]
  },
  {
   "cell_type": "code",
   "execution_count": 62,
   "id": "e4d0b920",
   "metadata": {
    "hidden": true
   },
   "outputs": [
    {
     "name": "stdout",
     "output_type": "stream",
     "text": [
      "              precision    recall  f1-score   support\n",
      "\n",
      "           %       0.63      0.50      0.55       835\n",
      "           +       0.42      0.24      0.30       885\n",
      "          aa       0.43      0.33      0.38       497\n",
      "           b       0.84      0.85      0.84      1865\n",
      "          ba       0.81      0.54      0.65       171\n",
      "          qw       0.55      0.62      0.58        94\n",
      "          qy       0.82      0.35      0.49       205\n",
      "          sd       0.63      0.89      0.74      3561\n",
      "        sd^e       0.00      0.00      0.00       110\n",
      "          sv       0.50      0.27      0.35      1284\n",
      "\n",
      "    accuracy                           0.64      9507\n",
      "   macro avg       0.56      0.46      0.49      9507\n",
      "weighted avg       0.62      0.64      0.61      9507\n",
      "\n"
     ]
    },
    {
     "name": "stderr",
     "output_type": "stream",
     "text": [
      "/Users/ghbhgtgh/opt/anaconda3/envs/slp/lib/python3.10/site-packages/sklearn/metrics/_classification.py:1318: UndefinedMetricWarning: Precision and F-score are ill-defined and being set to 0.0 in labels with no predicted samples. Use `zero_division` parameter to control this behavior.\n",
      "  _warn_prf(average, modifier, msg_start, len(result))\n",
      "/Users/ghbhgtgh/opt/anaconda3/envs/slp/lib/python3.10/site-packages/sklearn/metrics/_classification.py:1318: UndefinedMetricWarning: Precision and F-score are ill-defined and being set to 0.0 in labels with no predicted samples. Use `zero_division` parameter to control this behavior.\n",
      "  _warn_prf(average, modifier, msg_start, len(result))\n",
      "/Users/ghbhgtgh/opt/anaconda3/envs/slp/lib/python3.10/site-packages/sklearn/metrics/_classification.py:1318: UndefinedMetricWarning: Precision and F-score are ill-defined and being set to 0.0 in labels with no predicted samples. Use `zero_division` parameter to control this behavior.\n",
      "  _warn_prf(average, modifier, msg_start, len(result))\n"
     ]
    }
   ],
   "source": [
    "# report for each class\n",
    "print(classification_report(np.argmax(y_test_cateogical, axis=1), y_preds[2], target_names=y_train_dict))"
   ]
  },
  {
   "cell_type": "markdown",
   "id": "836dd80f",
   "metadata": {
    "hidden": true
   },
   "source": [
    "### d) Which were the most difficult? Why do you think they were difficult?\n",
    "\n",
    "From above classification report and confusion matrix, the model performed worst on sd^e (Statement expanding y/n answer) because it was confused with sd, and all of the sd^e had been classified as sd (statement non opinion). This might be due to model find these two tags really similar, thus cannot tell them apart since both of them are statements. One possible fix might be the feature sets should also include tag of previous sentences, so the model can distinguist whether current sentence is an answer to a question or a statement. "
   ]
  },
  {
   "cell_type": "markdown",
   "id": "f857bc9f",
   "metadata": {
    "hidden": true
   },
   "source": [
    "### e) What were some common errors (e.g. confused classes)? Why do you think your classifier made these errors?\n",
    "\n",
    "One of the errors are mentioned in part d. The other common errors are lots of sd (Statement-non-opinion) are classified as % (Abandoned or Turn-Exit) and + (continuation). This might be because the sentence was suitable of multiple labels, but transcript only has 1 label. "
   ]
  },
  {
   "cell_type": "markdown",
   "id": "2ad055d1",
   "metadata": {
    "hidden": true
   },
   "source": [
    "### f) Based on this analysis, what ideas do you have to further improve your classifier/model?\n",
    "\n",
    "Firstly, I would combine sd with sd^e to become 1 label and combine other tags with extension. Secondly, I would add another feature: previous dialogue tag of current segment. Thirdly, I would clean up the data by concatnating some of the sentences together or remove some of the duplicate sentences."
   ]
  },
  {
   "cell_type": "code",
   "execution_count": null,
   "id": "8f01b042",
   "metadata": {
    "hidden": true
   },
   "outputs": [],
   "source": []
  }
 ],
 "metadata": {
  "kernelspec": {
   "display_name": "slp",
   "language": "python",
   "name": "slp"
  },
  "language_info": {
   "codemirror_mode": {
    "name": "ipython",
    "version": 3
   },
   "file_extension": ".py",
   "mimetype": "text/x-python",
   "name": "python",
   "nbconvert_exporter": "python",
   "pygments_lexer": "ipython3",
   "version": "3.10.6"
  },
  "toc": {
   "base_numbering": 1,
   "nav_menu": {},
   "number_sections": true,
   "sideBar": true,
   "skip_h1_title": false,
   "title_cell": "Table of Contents",
   "title_sidebar": "Contents",
   "toc_cell": false,
   "toc_position": {
    "height": "calc(100% - 180px)",
    "left": "10px",
    "top": "150px",
    "width": "246.733px"
   },
   "toc_section_display": true,
   "toc_window_display": true
  }
 },
 "nbformat": 4,
 "nbformat_minor": 5
}
