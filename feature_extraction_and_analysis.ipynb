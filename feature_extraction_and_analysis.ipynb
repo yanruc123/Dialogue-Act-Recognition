{
 "cells": [
  {
   "cell_type": "code",
   "execution_count": 50,
   "id": "4d86f98c",
   "metadata": {},
   "outputs": [],
   "source": [
    "import nltk\n",
    "import parselmouth\n",
    "import numpy as np\n",
    "import pandas as pd\n",
    "import os, glob\n",
    "from tqdm.notebook import tqdm\n",
    "import statistics\n",
    "from parselmouth.praat import call\n",
    "import matplotlib.pyplot as plt\n",
    "from collections import Counter"
   ]
  },
  {
   "cell_type": "markdown",
   "id": "bd0dbb70",
   "metadata": {
    "heading_collapsed": true
   },
   "source": [
    "## Combine train and test"
   ]
  },
  {
   "cell_type": "code",
   "execution_count": 2,
   "id": "9943c272",
   "metadata": {
    "hidden": true
   },
   "outputs": [
    {
     "data": {
      "text/html": [
       "<div>\n",
       "<style scoped>\n",
       "    .dataframe tbody tr th:only-of-type {\n",
       "        vertical-align: middle;\n",
       "    }\n",
       "\n",
       "    .dataframe tbody tr th {\n",
       "        vertical-align: top;\n",
       "    }\n",
       "\n",
       "    .dataframe thead th {\n",
       "        text-align: right;\n",
       "    }\n",
       "</style>\n",
       "<table border=\"1\" class=\"dataframe\">\n",
       "  <thead>\n",
       "    <tr style=\"text-align: right;\">\n",
       "      <th></th>\n",
       "      <th>dialog_id</th>\n",
       "      <th>speaker</th>\n",
       "      <th>transcript</th>\n",
       "      <th>da_tag</th>\n",
       "      <th>start_time</th>\n",
       "      <th>end_time</th>\n",
       "      <th>function</th>\n",
       "      <th>pronoun</th>\n",
       "      <th>ppron</th>\n",
       "      <th>i</th>\n",
       "      <th>...</th>\n",
       "      <th>home</th>\n",
       "      <th>money</th>\n",
       "      <th>relig</th>\n",
       "      <th>death</th>\n",
       "      <th>informal</th>\n",
       "      <th>swear</th>\n",
       "      <th>netspeak</th>\n",
       "      <th>assent</th>\n",
       "      <th>nonflu</th>\n",
       "      <th>filler</th>\n",
       "    </tr>\n",
       "  </thead>\n",
       "  <tbody>\n",
       "    <tr>\n",
       "      <th>0</th>\n",
       "      <td>sw2005</td>\n",
       "      <td>A</td>\n",
       "      <td>okay</td>\n",
       "      <td>o</td>\n",
       "      <td>0.0</td>\n",
       "      <td>1.315974</td>\n",
       "      <td>0.0</td>\n",
       "      <td>0.0</td>\n",
       "      <td>0.0</td>\n",
       "      <td>0.0</td>\n",
       "      <td>...</td>\n",
       "      <td>0.0</td>\n",
       "      <td>0.0</td>\n",
       "      <td>0.0</td>\n",
       "      <td>0.0</td>\n",
       "      <td>1.0</td>\n",
       "      <td>0.0</td>\n",
       "      <td>0.0</td>\n",
       "      <td>1.0</td>\n",
       "      <td>0.0</td>\n",
       "      <td>0.0</td>\n",
       "    </tr>\n",
       "  </tbody>\n",
       "</table>\n",
       "<p>1 rows × 79 columns</p>\n",
       "</div>"
      ],
      "text/plain": [
       "  dialog_id speaker transcript da_tag  start_time  end_time  function  \\\n",
       "0    sw2005       A       okay      o         0.0  1.315974       0.0   \n",
       "\n",
       "   pronoun  ppron    i  ...  home  money  relig  death  informal  swear  \\\n",
       "0      0.0    0.0  0.0  ...   0.0    0.0    0.0    0.0       1.0    0.0   \n",
       "\n",
       "   netspeak  assent  nonflu  filler  \n",
       "0       0.0     1.0     0.0     0.0  \n",
       "\n",
       "[1 rows x 79 columns]"
      ]
     },
     "execution_count": 2,
     "metadata": {},
     "output_type": "execute_result"
    }
   ],
   "source": [
    "# load training set\n",
    "train_df = pd.read_csv(\"train.csv\")\n",
    "train_df.head(1)"
   ]
  },
  {
   "cell_type": "code",
   "execution_count": 3,
   "id": "9cf6e355",
   "metadata": {
    "hidden": true
   },
   "outputs": [
    {
     "data": {
      "text/html": [
       "<div>\n",
       "<style scoped>\n",
       "    .dataframe tbody tr th:only-of-type {\n",
       "        vertical-align: middle;\n",
       "    }\n",
       "\n",
       "    .dataframe tbody tr th {\n",
       "        vertical-align: top;\n",
       "    }\n",
       "\n",
       "    .dataframe thead th {\n",
       "        text-align: right;\n",
       "    }\n",
       "</style>\n",
       "<table border=\"1\" class=\"dataframe\">\n",
       "  <thead>\n",
       "    <tr style=\"text-align: right;\">\n",
       "      <th></th>\n",
       "      <th>dialog_id</th>\n",
       "      <th>speaker</th>\n",
       "      <th>transcript</th>\n",
       "      <th>da_tag</th>\n",
       "      <th>start_time</th>\n",
       "      <th>end_time</th>\n",
       "      <th>function</th>\n",
       "      <th>pronoun</th>\n",
       "      <th>ppron</th>\n",
       "      <th>i</th>\n",
       "      <th>...</th>\n",
       "      <th>home</th>\n",
       "      <th>money</th>\n",
       "      <th>relig</th>\n",
       "      <th>death</th>\n",
       "      <th>informal</th>\n",
       "      <th>swear</th>\n",
       "      <th>netspeak</th>\n",
       "      <th>assent</th>\n",
       "      <th>nonflu</th>\n",
       "      <th>filler</th>\n",
       "    </tr>\n",
       "  </thead>\n",
       "  <tbody>\n",
       "    <tr>\n",
       "      <th>0</th>\n",
       "      <td>sw2012</td>\n",
       "      <td>A</td>\n",
       "      <td>&lt;noise&gt;</td>\n",
       "      <td>x</td>\n",
       "      <td>0.0</td>\n",
       "      <td>0.451267</td>\n",
       "      <td>0.0</td>\n",
       "      <td>0.0</td>\n",
       "      <td>0.0</td>\n",
       "      <td>0.0</td>\n",
       "      <td>...</td>\n",
       "      <td>0.0</td>\n",
       "      <td>0.0</td>\n",
       "      <td>0.0</td>\n",
       "      <td>0.0</td>\n",
       "      <td>0.0</td>\n",
       "      <td>0.0</td>\n",
       "      <td>0.0</td>\n",
       "      <td>0.0</td>\n",
       "      <td>0.0</td>\n",
       "      <td>0.0</td>\n",
       "    </tr>\n",
       "  </tbody>\n",
       "</table>\n",
       "<p>1 rows × 79 columns</p>\n",
       "</div>"
      ],
      "text/plain": [
       "  dialog_id speaker transcript da_tag  start_time  end_time  function  \\\n",
       "0    sw2012       A    <noise>      x         0.0  0.451267       0.0   \n",
       "\n",
       "   pronoun  ppron    i  ...  home  money  relig  death  informal  swear  \\\n",
       "0      0.0    0.0  0.0  ...   0.0    0.0    0.0    0.0       0.0    0.0   \n",
       "\n",
       "   netspeak  assent  nonflu  filler  \n",
       "0       0.0     0.0     0.0     0.0  \n",
       "\n",
       "[1 rows x 79 columns]"
      ]
     },
     "execution_count": 3,
     "metadata": {},
     "output_type": "execute_result"
    }
   ],
   "source": [
    "# load testing set\n",
    "test_df = pd.read_csv(\"test.csv\")\n",
    "test_df.head(1)"
   ]
  },
  {
   "cell_type": "code",
   "execution_count": 4,
   "id": "153bbf99",
   "metadata": {
    "hidden": true
   },
   "outputs": [
    {
     "data": {
      "text/html": [
       "<div>\n",
       "<style scoped>\n",
       "    .dataframe tbody tr th:only-of-type {\n",
       "        vertical-align: middle;\n",
       "    }\n",
       "\n",
       "    .dataframe tbody tr th {\n",
       "        vertical-align: top;\n",
       "    }\n",
       "\n",
       "    .dataframe thead th {\n",
       "        text-align: right;\n",
       "    }\n",
       "</style>\n",
       "<table border=\"1\" class=\"dataframe\">\n",
       "  <thead>\n",
       "    <tr style=\"text-align: right;\">\n",
       "      <th></th>\n",
       "      <th>dialog_id</th>\n",
       "      <th>speaker</th>\n",
       "      <th>transcript</th>\n",
       "      <th>da_tag</th>\n",
       "      <th>start_time</th>\n",
       "      <th>end_time</th>\n",
       "      <th>function</th>\n",
       "      <th>pronoun</th>\n",
       "      <th>ppron</th>\n",
       "      <th>i</th>\n",
       "      <th>...</th>\n",
       "      <th>home</th>\n",
       "      <th>money</th>\n",
       "      <th>relig</th>\n",
       "      <th>death</th>\n",
       "      <th>informal</th>\n",
       "      <th>swear</th>\n",
       "      <th>netspeak</th>\n",
       "      <th>assent</th>\n",
       "      <th>nonflu</th>\n",
       "      <th>filler</th>\n",
       "    </tr>\n",
       "  </thead>\n",
       "  <tbody>\n",
       "    <tr>\n",
       "      <th>0</th>\n",
       "      <td>sw2005</td>\n",
       "      <td>A</td>\n",
       "      <td>okay</td>\n",
       "      <td>o</td>\n",
       "      <td>0.000000</td>\n",
       "      <td>1.315974</td>\n",
       "      <td>0.000000</td>\n",
       "      <td>0.000000</td>\n",
       "      <td>0.000000</td>\n",
       "      <td>0.000000</td>\n",
       "      <td>...</td>\n",
       "      <td>0.000000</td>\n",
       "      <td>0.0</td>\n",
       "      <td>0.0</td>\n",
       "      <td>0.0</td>\n",
       "      <td>1.000000</td>\n",
       "      <td>0.0</td>\n",
       "      <td>0.0</td>\n",
       "      <td>1.0</td>\n",
       "      <td>0.000000</td>\n",
       "      <td>0.0</td>\n",
       "    </tr>\n",
       "    <tr>\n",
       "      <th>1</th>\n",
       "      <td>sw2005</td>\n",
       "      <td>B</td>\n",
       "      <td>SIL</td>\n",
       "      <td>x</td>\n",
       "      <td>0.000000</td>\n",
       "      <td>10.948825</td>\n",
       "      <td>0.000000</td>\n",
       "      <td>0.000000</td>\n",
       "      <td>0.000000</td>\n",
       "      <td>0.000000</td>\n",
       "      <td>...</td>\n",
       "      <td>0.000000</td>\n",
       "      <td>0.0</td>\n",
       "      <td>0.0</td>\n",
       "      <td>0.0</td>\n",
       "      <td>0.000000</td>\n",
       "      <td>0.0</td>\n",
       "      <td>0.0</td>\n",
       "      <td>0.0</td>\n",
       "      <td>0.000000</td>\n",
       "      <td>0.0</td>\n",
       "    </tr>\n",
       "    <tr>\n",
       "      <th>2</th>\n",
       "      <td>sw2005</td>\n",
       "      <td>A</td>\n",
       "      <td>uh first um i need to know uh how do you feel ...</td>\n",
       "      <td>qo</td>\n",
       "      <td>1.315974</td>\n",
       "      <td>10.930126</td>\n",
       "      <td>0.384615</td>\n",
       "      <td>0.076923</td>\n",
       "      <td>0.076923</td>\n",
       "      <td>0.038462</td>\n",
       "      <td>...</td>\n",
       "      <td>0.076923</td>\n",
       "      <td>0.0</td>\n",
       "      <td>0.0</td>\n",
       "      <td>0.0</td>\n",
       "      <td>0.230769</td>\n",
       "      <td>0.0</td>\n",
       "      <td>0.0</td>\n",
       "      <td>0.0</td>\n",
       "      <td>0.230769</td>\n",
       "      <td>0.0</td>\n",
       "    </tr>\n",
       "  </tbody>\n",
       "</table>\n",
       "<p>3 rows × 79 columns</p>\n",
       "</div>"
      ],
      "text/plain": [
       "  dialog_id speaker                                         transcript da_tag  \\\n",
       "0    sw2005       A                                               okay      o   \n",
       "1    sw2005       B                                                SIL      x   \n",
       "2    sw2005       A  uh first um i need to know uh how do you feel ...     qo   \n",
       "\n",
       "   start_time   end_time  function   pronoun     ppron         i  ...  \\\n",
       "0    0.000000   1.315974  0.000000  0.000000  0.000000  0.000000  ...   \n",
       "1    0.000000  10.948825  0.000000  0.000000  0.000000  0.000000  ...   \n",
       "2    1.315974  10.930126  0.384615  0.076923  0.076923  0.038462  ...   \n",
       "\n",
       "       home  money  relig  death  informal  swear  netspeak  assent    nonflu  \\\n",
       "0  0.000000    0.0    0.0    0.0  1.000000    0.0       0.0     1.0  0.000000   \n",
       "1  0.000000    0.0    0.0    0.0  0.000000    0.0       0.0     0.0  0.000000   \n",
       "2  0.076923    0.0    0.0    0.0  0.230769    0.0       0.0     0.0  0.230769   \n",
       "\n",
       "   filler  \n",
       "0     0.0  \n",
       "1     0.0  \n",
       "2     0.0  \n",
       "\n",
       "[3 rows x 79 columns]"
      ]
     },
     "execution_count": 4,
     "metadata": {},
     "output_type": "execute_result"
    }
   ],
   "source": [
    "# combine\n",
    "train_test_df = [train_df, test_df]\n",
    "train_test_df = pd.concat(train_test_df)\n",
    "train_test_df.head(3)"
   ]
  },
  {
   "cell_type": "markdown",
   "id": "35e8efb5",
   "metadata": {
    "heading_collapsed": true
   },
   "source": [
    "## Select Audio Feature\n",
    "for sound I had selected features from HW1, including: Max&Mean&SD pitch, Max&Mean&SD intensity, speaking rate, jitter, shimmer, HNR"
   ]
  },
  {
   "cell_type": "code",
   "execution_count": 5,
   "id": "18f43dd3",
   "metadata": {
    "hidden": true
   },
   "outputs": [],
   "source": [
    "def load(path):\n",
    "    return parselmouth.Sound(path)"
   ]
  },
  {
   "cell_type": "code",
   "execution_count": 6,
   "id": "a8d6a66c",
   "metadata": {
    "hidden": true
   },
   "outputs": [
    {
     "name": "stdout",
     "output_type": "stream",
     "text": [
      "0\n",
      "100\n",
      "200\n",
      "300\n",
      "400\n",
      "500\n",
      "600\n",
      "700\n",
      "800\n"
     ]
    },
    {
     "data": {
      "text/plain": [
       "[('./HW2_wav_files/sw4733_A.wav', <parselmouth.Sound at 0x7ff5c4ce3f30>),\n",
       " ('./HW2_wav_files/sw3223_A.wav', <parselmouth.Sound at 0x7ff5a501cbf0>),\n",
       " ('./HW2_wav_files/sw3691_B.wav', <parselmouth.Sound at 0x7ff5a501c570>),\n",
       " ('./HW2_wav_files/sw4038_B.wav', <parselmouth.Sound at 0x7ff5a501cab0>),\n",
       " ('./HW2_wav_files/sw2104_B.wav', <parselmouth.Sound at 0x7ff5a501cc70>),\n",
       " ('./HW2_wav_files/sw3902_B.wav', <parselmouth.Sound at 0x7ff5a501c630>),\n",
       " ('./HW2_wav_files/sw2122_A.wav', <parselmouth.Sound at 0x7ff5bbe0d9f0>),\n",
       " ('./HW2_wav_files/sw3104_B.wav', <parselmouth.Sound at 0x7ff5a501c830>),\n",
       " ('./HW2_wav_files/sw4339_B.wav', <parselmouth.Sound at 0x7ff5a501c2b0>),\n",
       " ('./HW2_wav_files/sw2839_A.wav', <parselmouth.Sound at 0x7ff5a501c870>)]"
      ]
     },
     "execution_count": 6,
     "metadata": {},
     "output_type": "execute_result"
    }
   ],
   "source": [
    "# load all sound and their file name using parselmouth\n",
    "# (filename, sound)\n",
    "all_sounds = []\n",
    "counter = 0\n",
    "path = './HW2_wav_files'\n",
    "for filename in glob.glob(os.path.join(path, '*.wav')):\n",
    "    if (counter % 100 == 0):\n",
    "        print(counter)\n",
    "    all_sounds.append((filename, load(filename)))\n",
    "    counter += 1\n",
    "\n",
    "all_sounds[:10]"
   ]
  },
  {
   "cell_type": "code",
   "execution_count": 22,
   "id": "4b6fde4b",
   "metadata": {
    "hidden": true
   },
   "outputs": [],
   "source": [
    "# extract feature from the sounds\n",
    "'''\n",
    "    input: all_recordings: have to be a list of (filename, parselmouth sound)\n",
    "'''\n",
    "class ExtractProperties:\n",
    "    def __init__(self, all_recordings):\n",
    "        self.sounds = list(map(lambda x: x[1], all_recordings))\n",
    "        \n",
    "        # extract filename from path\n",
    "        self.filenames = list(map(lambda x: x[0][16:], all_recordings))\n",
    "        \n",
    "    def get_filename(self):\n",
    "        return self.filenames\n",
    "    \n",
    "    def get_pitch(self):\n",
    "        '''return [Max pitch, Mean pitch, SD pitch]'''\n",
    "        pitch_info = []\n",
    "        for i in range(len(self.sounds)):\n",
    "            sound = self.sounds[i]\n",
    "            if (i % 100 == 0):\n",
    "                print(i)\n",
    "            pitch = list(sound.to_pitch(pitch_floor=75, pitch_ceiling=600).selected_array['frequency'])\n",
    "            pitch_info.append([round(max(pitch),3), round(statistics.mean(pitch),3), round(statistics.stdev(pitch),3)])\n",
    "        return pitch_info\n",
    "    \n",
    "    def get_intensity(self):\n",
    "        '''return [Max intensity, Mean intensity, SD intensity]'''\n",
    "        intensity_info = []\n",
    "        for i in range(len(self.sounds)):\n",
    "            sound = self.sounds[i]\n",
    "            if (i % 100 == 0):\n",
    "                print(i)\n",
    "            intensity = list(sound.to_intensity(minimum_pitch=100).values.squeeze())\n",
    "            intensity_info.append([round(max(intensity),3), round(statistics.mean(intensity),3), round(statistics.stdev(intensity),3)])\n",
    "        return intensity_info\n",
    "    \n",
    "    def get_speaking_rate(self):\n",
    "        '''\n",
    "            return speaking rate for each speaker in each audio:\n",
    "            1- get transcript from dataframe\n",
    "            2- sum words/total time\n",
    "        '''\n",
    "        num_words = []\n",
    "        for i in range(len(self.filenames)):\n",
    "            filename = self.filenames[i]\n",
    "            if (i % 100 == 0):\n",
    "                print(i)\n",
    "            # segment the filename\n",
    "            dialog_id, speaker = filename[:6], filename[7]\n",
    "\n",
    "            # aggregate all transcripts from df -> count num words\n",
    "            all_transcripts = train_test_df.loc[train_test_df['dialog_id'] == dialog_id]\n",
    "            all_transcripts = all_transcripts.loc[all_transcripts['speaker'] == speaker]\n",
    "            all_transcripts = all_transcripts['transcript']\n",
    "            total_words = sum(list(map(lambda x: len(x), all_transcripts.tolist())))\n",
    "            num_words.append(total_words)\n",
    "            \n",
    "        # get duration of recording and compute speaking rate\n",
    "        durations = []\n",
    "        for i in range(len(self.sounds)):\n",
    "            sound = self.sounds[i]\n",
    "            if (i % 100 == 0):\n",
    "                print(i)\n",
    "            durations.append(round(sound.get_total_duration(),5))\n",
    "            \n",
    "        speaking_rate = [num_words[i]/durations[i] for i in range(len(durations))]\n",
    "        return speaking_rate\n",
    "    \n",
    "    def get_jitter(self):\n",
    "        jitters = []\n",
    "        for i in range(len(self.sounds)):\n",
    "            sound = self.sounds[i]\n",
    "            if (i % 100 == 0):\n",
    "                print(i)\n",
    "            pointProcess = call([sound, sound.to_pitch_ac(pitch_floor=75, pitch_ceiling=600)], \"To PointProcess (cc)\")\n",
    "            jitters.append(round(call(pointProcess, \"Get jitter (local)\", 0, 0, 0.0001, 0.02, 1.3), 3))\n",
    "        return jitters\n",
    "    \n",
    "    def get_shimmer(self):\n",
    "        shimmer = []\n",
    "        for i in range(len(self.sounds)):\n",
    "            sound = self.sounds[i]\n",
    "            if (i % 100 == 0):\n",
    "                print(i)\n",
    "            pointProcess = call([sound, sound.to_pitch_ac(pitch_floor=75, pitch_ceiling=600)], \"To PointProcess (cc)\")\n",
    "            localShimmer = call([sound, pointProcess], \"Get shimmer (local)\", 0, 0, 0.0001, 0.02, 1.3, 1.6)\n",
    "            shimmer.append(round(localShimmer, 3))\n",
    "        return shimmer\n",
    "    \n",
    "    def get_hnr(self):\n",
    "        hnr = []\n",
    "        for i in range(len(self.sounds)):\n",
    "            sound = self.sounds[i]\n",
    "            if (i % 100 == 0):\n",
    "                print(i)\n",
    "            harmonicity = call(sound, \"To Harmonicity (cc)\", 0.01, 75, 0.1, 1.0)\n",
    "            hnr.append(round(call(harmonicity, \"Get mean\", 0, 0), 2))\n",
    "        return hnr"
   ]
  },
  {
   "cell_type": "code",
   "execution_count": 23,
   "id": "77d90732",
   "metadata": {
    "hidden": true
   },
   "outputs": [],
   "source": [
    "# extract properties from each recording\n",
    "extract_object = ExtractProperties(all_sounds)"
   ]
  },
  {
   "cell_type": "code",
   "execution_count": 10,
   "id": "b299ed51",
   "metadata": {
    "hidden": true
   },
   "outputs": [
    {
     "name": "stdout",
     "output_type": "stream",
     "text": [
      "Computing Pitch...\n",
      "0\n",
      "100\n",
      "200\n",
      "300\n",
      "400\n",
      "500\n",
      "600\n",
      "700\n",
      "800\n",
      "Finished Pitch...\n"
     ]
    }
   ],
   "source": [
    "print(\"Computing Pitch...\")\n",
    "pitch_info = extract_object.get_pitch()\n",
    "print(\"Finished Pitch...\")"
   ]
  },
  {
   "cell_type": "code",
   "execution_count": 11,
   "id": "7c254850",
   "metadata": {
    "hidden": true
   },
   "outputs": [
    {
     "name": "stdout",
     "output_type": "stream",
     "text": [
      "Computing Intensity...\n",
      "0\n",
      "100\n",
      "200\n",
      "300\n",
      "400\n",
      "500\n",
      "600\n",
      "700\n",
      "800\n",
      "Finished Intensity...\n"
     ]
    }
   ],
   "source": [
    "print(\"Computing Intensity...\")\n",
    "intensity_info = extract_object.get_intensity()\n",
    "print(\"Finished Intensity...\")"
   ]
  },
  {
   "cell_type": "code",
   "execution_count": 24,
   "id": "f5794fbd",
   "metadata": {
    "hidden": true
   },
   "outputs": [
    {
     "name": "stdout",
     "output_type": "stream",
     "text": [
      "Computing Speaking rate...\n",
      "0\n",
      "100\n",
      "200\n",
      "300\n",
      "400\n",
      "500\n",
      "600\n",
      "700\n",
      "800\n",
      "0\n",
      "100\n",
      "200\n",
      "300\n",
      "400\n",
      "500\n",
      "600\n",
      "700\n",
      "800\n",
      "Finished Speaking rate...\n"
     ]
    }
   ],
   "source": [
    "print(\"Computing Speaking rate...\")\n",
    "speaking_rates = extract_object.get_speaking_rate()\n",
    "print(\"Finished Speaking rate...\")"
   ]
  },
  {
   "cell_type": "code",
   "execution_count": 25,
   "id": "0cf22237",
   "metadata": {
    "hidden": true
   },
   "outputs": [
    {
     "name": "stdout",
     "output_type": "stream",
     "text": [
      "Computing Jitter...\n",
      "0\n",
      "100\n",
      "200\n",
      "300\n",
      "400\n",
      "500\n",
      "600\n",
      "700\n",
      "800\n",
      "Computing Jitter...\n"
     ]
    }
   ],
   "source": [
    "print(\"Computing Jitter...\")\n",
    "jitters = extract_object.get_jitter()\n",
    "print(\"Computing Jitter...\")"
   ]
  },
  {
   "cell_type": "code",
   "execution_count": 26,
   "id": "fe75aad1",
   "metadata": {
    "hidden": true
   },
   "outputs": [
    {
     "name": "stdout",
     "output_type": "stream",
     "text": [
      "Computing Shimmer...\n",
      "0\n",
      "100\n",
      "200\n",
      "300\n",
      "400\n",
      "500\n",
      "600\n",
      "700\n",
      "800\n",
      "Computing Shimmer...\n"
     ]
    }
   ],
   "source": [
    "print(\"Computing Shimmer...\")\n",
    "shimmer = extract_object.get_shimmer()\n",
    "print(\"Computing Shimmer...\")"
   ]
  },
  {
   "cell_type": "code",
   "execution_count": 27,
   "id": "6d995a20",
   "metadata": {
    "hidden": true
   },
   "outputs": [
    {
     "name": "stdout",
     "output_type": "stream",
     "text": [
      "Computing HNR...\n",
      "0\n",
      "100\n",
      "200\n",
      "300\n",
      "400\n",
      "500\n",
      "600\n",
      "700\n",
      "800\n",
      "Computing HNR...\n"
     ]
    }
   ],
   "source": [
    "print(\"Computing HNR...\")\n",
    "hnr = extract_object.get_hnr()\n",
    "print(\"Computing HNR...\")"
   ]
  },
  {
   "cell_type": "code",
   "execution_count": 28,
   "id": "49f30b0b",
   "metadata": {
    "hidden": true
   },
   "outputs": [],
   "source": [
    "filename = extract_object.get_filename()\n",
    "dialog_ids, speakers = list(map(lambda x: x[:6], filename)), list(map(lambda x: x[7], filename))"
   ]
  },
  {
   "cell_type": "code",
   "execution_count": 29,
   "id": "3884998b",
   "metadata": {
    "hidden": true
   },
   "outputs": [
    {
     "data": {
      "text/plain": [
       "array([5.99544000e+02, 5.43340000e+01, 9.89370000e+01, 8.39710000e+01,\n",
       "       4.73170000e+01, 1.26620000e+01, 1.26218471e+01, 1.00000000e-02,\n",
       "       7.40000000e-02, 1.53100000e+01])"
      ]
     },
     "execution_count": 29,
     "metadata": {},
     "output_type": "execute_result"
    }
   ],
   "source": [
    "# add each property and create a new dataframe (?)\n",
    "result = np.concatenate((pitch_info, intensity_info, np.expand_dims(speaking_rates, 1), np.expand_dims(jitters, 1), \\\n",
    "               np.expand_dims(shimmer, 1), np.expand_dims(hnr, 1)), axis=1)\n",
    "\n",
    "result[0]"
   ]
  },
  {
   "cell_type": "code",
   "execution_count": 30,
   "id": "bd54f7f0",
   "metadata": {
    "hidden": true
   },
   "outputs": [],
   "source": [
    "dataset = pd.DataFrame({'dialog_id': dialog_ids, 'speaker': speakers, \\\n",
    "                        'Max Pitch': result[:, 0], 'Mean Pitch': result[:, 1], \\\n",
    "                        'Sd Pitch': result[:, 2], 'Max Intensity': result[:, 3], \\\n",
    "                        'Mean Intensity': result[:, 4], 'Sd Intensity': result[:, 5], 'Speaking Rate': result[:, 6], \\\n",
    "                        'Jitter': result[:, 7], 'Shimmer': result[:, 8], 'HNR': result[:, 9]})\n",
    "# .set_index('Speech File')"
   ]
  },
  {
   "cell_type": "code",
   "execution_count": 31,
   "id": "b9933e43",
   "metadata": {
    "hidden": true
   },
   "outputs": [
    {
     "data": {
      "text/html": [
       "<div>\n",
       "<style scoped>\n",
       "    .dataframe tbody tr th:only-of-type {\n",
       "        vertical-align: middle;\n",
       "    }\n",
       "\n",
       "    .dataframe tbody tr th {\n",
       "        vertical-align: top;\n",
       "    }\n",
       "\n",
       "    .dataframe thead th {\n",
       "        text-align: right;\n",
       "    }\n",
       "</style>\n",
       "<table border=\"1\" class=\"dataframe\">\n",
       "  <thead>\n",
       "    <tr style=\"text-align: right;\">\n",
       "      <th></th>\n",
       "      <th>dialog_id</th>\n",
       "      <th>speaker</th>\n",
       "      <th>Max Pitch</th>\n",
       "      <th>Mean Pitch</th>\n",
       "      <th>Sd Pitch</th>\n",
       "      <th>Max Intensity</th>\n",
       "      <th>Mean Intensity</th>\n",
       "      <th>Sd Intensity</th>\n",
       "      <th>Speaking Rate</th>\n",
       "      <th>Jitter</th>\n",
       "      <th>Shimmer</th>\n",
       "      <th>HNR</th>\n",
       "    </tr>\n",
       "  </thead>\n",
       "  <tbody>\n",
       "    <tr>\n",
       "      <th>0</th>\n",
       "      <td>sw4733</td>\n",
       "      <td>A</td>\n",
       "      <td>599.544</td>\n",
       "      <td>54.334</td>\n",
       "      <td>98.937</td>\n",
       "      <td>83.971</td>\n",
       "      <td>47.317</td>\n",
       "      <td>12.662</td>\n",
       "      <td>12.621847</td>\n",
       "      <td>0.010</td>\n",
       "      <td>0.074</td>\n",
       "      <td>15.31</td>\n",
       "    </tr>\n",
       "    <tr>\n",
       "      <th>1</th>\n",
       "      <td>sw3223</td>\n",
       "      <td>A</td>\n",
       "      <td>574.822</td>\n",
       "      <td>34.635</td>\n",
       "      <td>75.276</td>\n",
       "      <td>77.292</td>\n",
       "      <td>45.733</td>\n",
       "      <td>15.200</td>\n",
       "      <td>10.702578</td>\n",
       "      <td>0.015</td>\n",
       "      <td>0.105</td>\n",
       "      <td>9.34</td>\n",
       "    </tr>\n",
       "    <tr>\n",
       "      <th>2</th>\n",
       "      <td>sw3691</td>\n",
       "      <td>B</td>\n",
       "      <td>596.874</td>\n",
       "      <td>70.514</td>\n",
       "      <td>106.463</td>\n",
       "      <td>78.148</td>\n",
       "      <td>53.440</td>\n",
       "      <td>11.827</td>\n",
       "      <td>10.665515</td>\n",
       "      <td>0.013</td>\n",
       "      <td>0.088</td>\n",
       "      <td>8.26</td>\n",
       "    </tr>\n",
       "    <tr>\n",
       "      <th>3</th>\n",
       "      <td>sw4038</td>\n",
       "      <td>B</td>\n",
       "      <td>597.437</td>\n",
       "      <td>26.359</td>\n",
       "      <td>53.780</td>\n",
       "      <td>84.820</td>\n",
       "      <td>18.373</td>\n",
       "      <td>82.753</td>\n",
       "      <td>8.827983</td>\n",
       "      <td>0.014</td>\n",
       "      <td>0.102</td>\n",
       "      <td>9.71</td>\n",
       "    </tr>\n",
       "    <tr>\n",
       "      <th>4</th>\n",
       "      <td>sw2104</td>\n",
       "      <td>B</td>\n",
       "      <td>598.148</td>\n",
       "      <td>29.476</td>\n",
       "      <td>70.964</td>\n",
       "      <td>77.184</td>\n",
       "      <td>28.843</td>\n",
       "      <td>23.712</td>\n",
       "      <td>7.960803</td>\n",
       "      <td>0.017</td>\n",
       "      <td>0.080</td>\n",
       "      <td>11.90</td>\n",
       "    </tr>\n",
       "    <tr>\n",
       "      <th>...</th>\n",
       "      <td>...</td>\n",
       "      <td>...</td>\n",
       "      <td>...</td>\n",
       "      <td>...</td>\n",
       "      <td>...</td>\n",
       "      <td>...</td>\n",
       "      <td>...</td>\n",
       "      <td>...</td>\n",
       "      <td>...</td>\n",
       "      <td>...</td>\n",
       "      <td>...</td>\n",
       "      <td>...</td>\n",
       "    </tr>\n",
       "    <tr>\n",
       "      <th>839</th>\n",
       "      <td>sw2015</td>\n",
       "      <td>B</td>\n",
       "      <td>534.959</td>\n",
       "      <td>24.452</td>\n",
       "      <td>64.533</td>\n",
       "      <td>79.724</td>\n",
       "      <td>38.817</td>\n",
       "      <td>20.903</td>\n",
       "      <td>8.920405</td>\n",
       "      <td>0.011</td>\n",
       "      <td>0.082</td>\n",
       "      <td>12.68</td>\n",
       "    </tr>\n",
       "    <tr>\n",
       "      <th>840</th>\n",
       "      <td>sw3813</td>\n",
       "      <td>B</td>\n",
       "      <td>593.223</td>\n",
       "      <td>38.167</td>\n",
       "      <td>69.633</td>\n",
       "      <td>77.602</td>\n",
       "      <td>36.143</td>\n",
       "      <td>50.085</td>\n",
       "      <td>9.324858</td>\n",
       "      <td>0.020</td>\n",
       "      <td>0.102</td>\n",
       "      <td>8.77</td>\n",
       "    </tr>\n",
       "    <tr>\n",
       "      <th>841</th>\n",
       "      <td>sw2870</td>\n",
       "      <td>A</td>\n",
       "      <td>599.887</td>\n",
       "      <td>40.809</td>\n",
       "      <td>82.380</td>\n",
       "      <td>76.517</td>\n",
       "      <td>46.294</td>\n",
       "      <td>8.208</td>\n",
       "      <td>6.600446</td>\n",
       "      <td>0.014</td>\n",
       "      <td>0.102</td>\n",
       "      <td>13.72</td>\n",
       "    </tr>\n",
       "    <tr>\n",
       "      <th>842</th>\n",
       "      <td>sw2835</td>\n",
       "      <td>A</td>\n",
       "      <td>599.567</td>\n",
       "      <td>77.725</td>\n",
       "      <td>111.791</td>\n",
       "      <td>80.377</td>\n",
       "      <td>11.911</td>\n",
       "      <td>97.290</td>\n",
       "      <td>9.736210</td>\n",
       "      <td>0.014</td>\n",
       "      <td>0.077</td>\n",
       "      <td>14.32</td>\n",
       "    </tr>\n",
       "    <tr>\n",
       "      <th>843</th>\n",
       "      <td>sw3439</td>\n",
       "      <td>B</td>\n",
       "      <td>596.535</td>\n",
       "      <td>48.162</td>\n",
       "      <td>103.071</td>\n",
       "      <td>88.922</td>\n",
       "      <td>46.743</td>\n",
       "      <td>15.234</td>\n",
       "      <td>6.461477</td>\n",
       "      <td>0.019</td>\n",
       "      <td>0.086</td>\n",
       "      <td>12.99</td>\n",
       "    </tr>\n",
       "  </tbody>\n",
       "</table>\n",
       "<p>844 rows × 12 columns</p>\n",
       "</div>"
      ],
      "text/plain": [
       "    dialog_id speaker  Max Pitch  Mean Pitch  Sd Pitch  Max Intensity  \\\n",
       "0      sw4733       A    599.544      54.334    98.937         83.971   \n",
       "1      sw3223       A    574.822      34.635    75.276         77.292   \n",
       "2      sw3691       B    596.874      70.514   106.463         78.148   \n",
       "3      sw4038       B    597.437      26.359    53.780         84.820   \n",
       "4      sw2104       B    598.148      29.476    70.964         77.184   \n",
       "..        ...     ...        ...         ...       ...            ...   \n",
       "839    sw2015       B    534.959      24.452    64.533         79.724   \n",
       "840    sw3813       B    593.223      38.167    69.633         77.602   \n",
       "841    sw2870       A    599.887      40.809    82.380         76.517   \n",
       "842    sw2835       A    599.567      77.725   111.791         80.377   \n",
       "843    sw3439       B    596.535      48.162   103.071         88.922   \n",
       "\n",
       "     Mean Intensity  Sd Intensity  Speaking Rate  Jitter  Shimmer    HNR  \n",
       "0            47.317        12.662      12.621847   0.010    0.074  15.31  \n",
       "1            45.733        15.200      10.702578   0.015    0.105   9.34  \n",
       "2            53.440        11.827      10.665515   0.013    0.088   8.26  \n",
       "3            18.373        82.753       8.827983   0.014    0.102   9.71  \n",
       "4            28.843        23.712       7.960803   0.017    0.080  11.90  \n",
       "..              ...           ...            ...     ...      ...    ...  \n",
       "839          38.817        20.903       8.920405   0.011    0.082  12.68  \n",
       "840          36.143        50.085       9.324858   0.020    0.102   8.77  \n",
       "841          46.294         8.208       6.600446   0.014    0.102  13.72  \n",
       "842          11.911        97.290       9.736210   0.014    0.077  14.32  \n",
       "843          46.743        15.234       6.461477   0.019    0.086  12.99  \n",
       "\n",
       "[844 rows x 12 columns]"
      ]
     },
     "execution_count": 31,
     "metadata": {},
     "output_type": "execute_result"
    }
   ],
   "source": [
    "dataset"
   ]
  },
  {
   "cell_type": "markdown",
   "id": "592ae303",
   "metadata": {
    "hidden": true
   },
   "source": [
    "### Save Computed Sound Features"
   ]
  },
  {
   "cell_type": "code",
   "execution_count": 32,
   "id": "e3de124e",
   "metadata": {
    "hidden": true
   },
   "outputs": [],
   "source": [
    "# print to csv\n",
    "dataset.to_csv('./sound_features.csv')#, index=True)"
   ]
  },
  {
   "cell_type": "code",
   "execution_count": null,
   "id": "2417f1ae",
   "metadata": {
    "hidden": true
   },
   "outputs": [],
   "source": [
    "# # load sound feature and add to LIWC features\n",
    "# sound_df = pd.read_csv(\"sound_features.csv\", index_col='Unnamed: 0')\n",
    "# sound_df"
   ]
  },
  {
   "cell_type": "code",
   "execution_count": null,
   "id": "aa36a052",
   "metadata": {
    "hidden": true
   },
   "outputs": [],
   "source": [
    "# left (or inner?) join two tables\n",
    "# combined_df = train_df.merge(sound_df, on=['dialog_id', 'speaker'], how='left')\n",
    "# combined_df.head()"
   ]
  },
  {
   "cell_type": "code",
   "execution_count": null,
   "id": "dcdc79b3",
   "metadata": {
    "hidden": true
   },
   "outputs": [],
   "source": [
    "# save the file table\n",
    "# combined_df.to_csv('./all_features.csv', index=False)"
   ]
  },
  {
   "cell_type": "markdown",
   "id": "c9e45734",
   "metadata": {
    "heading_collapsed": true
   },
   "source": [
    "## Preprocessing"
   ]
  },
  {
   "cell_type": "markdown",
   "id": "4c44e778",
   "metadata": {
    "hidden": true
   },
   "source": [
    "All preprocessing steps:\n",
    "1. Eliminate text LIWC features with total 0 values >= 70\n",
    "2. Eliminate very short audios (duration < 1)\n",
    "3. Only keep 10 most common da_tags to make sure the model converge"
   ]
  },
  {
   "cell_type": "markdown",
   "id": "0829e23b",
   "metadata": {
    "heading_collapsed": true,
    "hidden": true
   },
   "source": [
    "### Preprocessing Text"
   ]
  },
  {
   "cell_type": "markdown",
   "id": "9db6704b",
   "metadata": {
    "hidden": true
   },
   "source": [
    "We want to eliminate any rows with 0s to:\n",
    "1. make sure the feature vectors are less sparse -> training will converge faster later\n",
    "2. lines with most values being 0 aren't helpful for model and us to learn much\n",
    "\n",
    "This preprocess is only done on training set, not testing set"
   ]
  },
  {
   "cell_type": "code",
   "execution_count": 35,
   "id": "9dcbba12",
   "metadata": {
    "hidden": true
   },
   "outputs": [
    {
     "data": {
      "text/plain": [
       "(array([7.0000e+00, 4.8000e+01, 3.5700e+02, 1.0390e+03, 3.4460e+03,\n",
       "        5.4310e+03, 1.0239e+04, 9.7540e+03, 1.1042e+04, 8.4020e+03]),\n",
       " array([24. , 28.5, 33. , 37.5, 42. , 46.5, 51. , 55.5, 60. , 64.5, 69. ]),\n",
       " <BarContainer object of 10 artists>)"
      ]
     },
     "execution_count": 35,
     "metadata": {},
     "output_type": "execute_result"
    },
    {
     "data": {
      "image/png": "[encoded data removed]",
      "text/plain": [
       "<Figure size 640x480 with 2 Axes>"
      ]
     },
     "metadata": {},
     "output_type": "display_data"
    }
   ],
   "source": [
    "# load unprocessed text features\n",
    "train_df = pd.read_csv(\"train.csv\")\n",
    "\n",
    "# eliminate rows that are mostly 0\n",
    "num_zeros = (train_df == 0).astype(int).sum(axis=1)\n",
    "num_zeros = pd.DataFrame(num_zeros, columns=['count'])\n",
    "num_zeros = num_zeros.loc[num_zeros['count'] < 70]\n",
    "fig, (ax1, ax2) = plt.subplots(1, 2)\n",
    "fig.suptitle('# of mostly 0 row before & after preprocessing')\n",
    "ax1.hist(list((train_df == 0).astype(int).sum(axis=1)))\n",
    "ax2.hist(num_zeros)"
   ]
  },
  {
   "cell_type": "code",
   "execution_count": 36,
   "id": "015d8ade",
   "metadata": {
    "hidden": true
   },
   "outputs": [
    {
     "data": {
      "text/html": [
       "<div>\n",
       "<style scoped>\n",
       "    .dataframe tbody tr th:only-of-type {\n",
       "        vertical-align: middle;\n",
       "    }\n",
       "\n",
       "    .dataframe tbody tr th {\n",
       "        vertical-align: top;\n",
       "    }\n",
       "\n",
       "    .dataframe thead th {\n",
       "        text-align: right;\n",
       "    }\n",
       "</style>\n",
       "<table border=\"1\" class=\"dataframe\">\n",
       "  <thead>\n",
       "    <tr style=\"text-align: right;\">\n",
       "      <th></th>\n",
       "      <th>dialog_id</th>\n",
       "      <th>speaker</th>\n",
       "      <th>transcript</th>\n",
       "      <th>da_tag</th>\n",
       "      <th>start_time</th>\n",
       "      <th>end_time</th>\n",
       "      <th>function</th>\n",
       "      <th>pronoun</th>\n",
       "      <th>ppron</th>\n",
       "      <th>i</th>\n",
       "      <th>...</th>\n",
       "      <th>home</th>\n",
       "      <th>money</th>\n",
       "      <th>relig</th>\n",
       "      <th>death</th>\n",
       "      <th>informal</th>\n",
       "      <th>swear</th>\n",
       "      <th>netspeak</th>\n",
       "      <th>assent</th>\n",
       "      <th>nonflu</th>\n",
       "      <th>filler</th>\n",
       "    </tr>\n",
       "  </thead>\n",
       "  <tbody>\n",
       "    <tr>\n",
       "      <th>2</th>\n",
       "      <td>sw2005</td>\n",
       "      <td>A</td>\n",
       "      <td>uh first um i need to know uh how do you feel ...</td>\n",
       "      <td>qo</td>\n",
       "      <td>1.315974</td>\n",
       "      <td>10.930126</td>\n",
       "      <td>0.384615</td>\n",
       "      <td>0.076923</td>\n",
       "      <td>0.076923</td>\n",
       "      <td>0.038462</td>\n",
       "      <td>...</td>\n",
       "      <td>0.076923</td>\n",
       "      <td>0.0</td>\n",
       "      <td>0.0</td>\n",
       "      <td>0.0</td>\n",
       "      <td>0.230769</td>\n",
       "      <td>0.0</td>\n",
       "      <td>0.0</td>\n",
       "      <td>0.0</td>\n",
       "      <td>0.230769</td>\n",
       "      <td>0.0</td>\n",
       "    </tr>\n",
       "  </tbody>\n",
       "</table>\n",
       "<p>1 rows × 79 columns</p>\n",
       "</div>"
      ],
      "text/plain": [
       "  dialog_id speaker                                         transcript da_tag  \\\n",
       "2    sw2005       A  uh first um i need to know uh how do you feel ...     qo   \n",
       "\n",
       "   start_time   end_time  function   pronoun     ppron         i  ...  \\\n",
       "2    1.315974  10.930126  0.384615  0.076923  0.076923  0.038462  ...   \n",
       "\n",
       "       home  money  relig  death  informal  swear  netspeak  assent    nonflu  \\\n",
       "2  0.076923    0.0    0.0    0.0  0.230769    0.0       0.0     0.0  0.230769   \n",
       "\n",
       "   filler  \n",
       "2     0.0  \n",
       "\n",
       "[1 rows x 79 columns]"
      ]
     },
     "execution_count": 36,
     "metadata": {},
     "output_type": "execute_result"
    }
   ],
   "source": [
    "# only keep designated rows from train_df\n",
    "prep_train_df = num_zeros.merge(train_df, left_index=True, right_index=True, how='left').drop(['count'], axis=1)\n",
    "prep_train_df.head(1)"
   ]
  },
  {
   "cell_type": "code",
   "execution_count": 37,
   "id": "9e6e0066",
   "metadata": {
    "hidden": true
   },
   "outputs": [],
   "source": [
    "# save the preprocessed text features\n",
    "prep_train_df.to_csv('./processed_train_text_features.csv')"
   ]
  },
  {
   "cell_type": "markdown",
   "id": "3eddb207",
   "metadata": {
    "heading_collapsed": true,
    "hidden": true
   },
   "source": [
    "### Preprocessing Sound"
   ]
  },
  {
   "cell_type": "markdown",
   "id": "bee46f50",
   "metadata": {
    "hidden": true
   },
   "source": [
    "We want to eliminate audios that are very short because they don't give us much information. Since we had already computed all the audio features, and recomputing them takes too long, we use speaking rate (which uses recording duration as nominator) to eliminate short audios."
   ]
  },
  {
   "cell_type": "code",
   "execution_count": 38,
   "id": "fbde34c0",
   "metadata": {
    "hidden": true
   },
   "outputs": [
    {
     "data": {
      "text/html": [
       "<div>\n",
       "<style scoped>\n",
       "    .dataframe tbody tr th:only-of-type {\n",
       "        vertical-align: middle;\n",
       "    }\n",
       "\n",
       "    .dataframe tbody tr th {\n",
       "        vertical-align: top;\n",
       "    }\n",
       "\n",
       "    .dataframe thead th {\n",
       "        text-align: right;\n",
       "    }\n",
       "</style>\n",
       "<table border=\"1\" class=\"dataframe\">\n",
       "  <thead>\n",
       "    <tr style=\"text-align: right;\">\n",
       "      <th></th>\n",
       "      <th>dialog_id</th>\n",
       "      <th>speaker</th>\n",
       "      <th>Max Pitch</th>\n",
       "      <th>Mean Pitch</th>\n",
       "      <th>Sd Pitch</th>\n",
       "      <th>Max Intensity</th>\n",
       "      <th>Mean Intensity</th>\n",
       "      <th>Sd Intensity</th>\n",
       "      <th>Speaking Rate</th>\n",
       "      <th>Jitter</th>\n",
       "      <th>Shimmer</th>\n",
       "      <th>HNR</th>\n",
       "    </tr>\n",
       "  </thead>\n",
       "  <tbody>\n",
       "    <tr>\n",
       "      <th>0</th>\n",
       "      <td>sw4733</td>\n",
       "      <td>A</td>\n",
       "      <td>599.544</td>\n",
       "      <td>54.334</td>\n",
       "      <td>98.937</td>\n",
       "      <td>83.971</td>\n",
       "      <td>47.317</td>\n",
       "      <td>12.662</td>\n",
       "      <td>12.621847</td>\n",
       "      <td>0.010</td>\n",
       "      <td>0.074</td>\n",
       "      <td>15.31</td>\n",
       "    </tr>\n",
       "    <tr>\n",
       "      <th>1</th>\n",
       "      <td>sw3223</td>\n",
       "      <td>A</td>\n",
       "      <td>574.822</td>\n",
       "      <td>34.635</td>\n",
       "      <td>75.276</td>\n",
       "      <td>77.292</td>\n",
       "      <td>45.733</td>\n",
       "      <td>15.200</td>\n",
       "      <td>10.702578</td>\n",
       "      <td>0.015</td>\n",
       "      <td>0.105</td>\n",
       "      <td>9.34</td>\n",
       "    </tr>\n",
       "    <tr>\n",
       "      <th>2</th>\n",
       "      <td>sw3691</td>\n",
       "      <td>B</td>\n",
       "      <td>596.874</td>\n",
       "      <td>70.514</td>\n",
       "      <td>106.463</td>\n",
       "      <td>78.148</td>\n",
       "      <td>53.440</td>\n",
       "      <td>11.827</td>\n",
       "      <td>10.665515</td>\n",
       "      <td>0.013</td>\n",
       "      <td>0.088</td>\n",
       "      <td>8.26</td>\n",
       "    </tr>\n",
       "    <tr>\n",
       "      <th>3</th>\n",
       "      <td>sw4038</td>\n",
       "      <td>B</td>\n",
       "      <td>597.437</td>\n",
       "      <td>26.359</td>\n",
       "      <td>53.780</td>\n",
       "      <td>84.820</td>\n",
       "      <td>18.373</td>\n",
       "      <td>82.753</td>\n",
       "      <td>8.827983</td>\n",
       "      <td>0.014</td>\n",
       "      <td>0.102</td>\n",
       "      <td>9.71</td>\n",
       "    </tr>\n",
       "    <tr>\n",
       "      <th>4</th>\n",
       "      <td>sw2104</td>\n",
       "      <td>B</td>\n",
       "      <td>598.148</td>\n",
       "      <td>29.476</td>\n",
       "      <td>70.964</td>\n",
       "      <td>77.184</td>\n",
       "      <td>28.843</td>\n",
       "      <td>23.712</td>\n",
       "      <td>7.960803</td>\n",
       "      <td>0.017</td>\n",
       "      <td>0.080</td>\n",
       "      <td>11.90</td>\n",
       "    </tr>\n",
       "  </tbody>\n",
       "</table>\n",
       "</div>"
      ],
      "text/plain": [
       "  dialog_id speaker  Max Pitch  Mean Pitch  Sd Pitch  Max Intensity  \\\n",
       "0    sw4733       A    599.544      54.334    98.937         83.971   \n",
       "1    sw3223       A    574.822      34.635    75.276         77.292   \n",
       "2    sw3691       B    596.874      70.514   106.463         78.148   \n",
       "3    sw4038       B    597.437      26.359    53.780         84.820   \n",
       "4    sw2104       B    598.148      29.476    70.964         77.184   \n",
       "\n",
       "   Mean Intensity  Sd Intensity  Speaking Rate  Jitter  Shimmer    HNR  \n",
       "0          47.317        12.662      12.621847   0.010    0.074  15.31  \n",
       "1          45.733        15.200      10.702578   0.015    0.105   9.34  \n",
       "2          53.440        11.827      10.665515   0.013    0.088   8.26  \n",
       "3          18.373        82.753       8.827983   0.014    0.102   9.71  \n",
       "4          28.843        23.712       7.960803   0.017    0.080  11.90  "
      ]
     },
     "execution_count": 38,
     "metadata": {},
     "output_type": "execute_result"
    }
   ],
   "source": [
    "# load sound feature and add to LIWC features\n",
    "sound_df = pd.read_csv(\"sound_features.csv\", index_col='Unnamed: 0')\n",
    "sound_df.head()"
   ]
  },
  {
   "cell_type": "code",
   "execution_count": 39,
   "id": "91cd4987",
   "metadata": {
    "hidden": true
   },
   "outputs": [],
   "source": [
    "# eliminate any speaking rate == 0 and resave the features\n",
    "sound_df = sound_df.loc[sound_df['Speaking Rate'] > 0]\n",
    "sound_df.to_csv('./processed_sound_features.csv')"
   ]
  },
  {
   "cell_type": "markdown",
   "id": "0c38b428",
   "metadata": {
    "heading_collapsed": true,
    "hidden": true
   },
   "source": [
    "### Recombine dataframe after preprocessing (Train)"
   ]
  },
  {
   "cell_type": "markdown",
   "id": "37e7118e",
   "metadata": {
    "hidden": true
   },
   "source": [
    "Since we had performed inner join of two tables, we eliminate any LIWC without audio features and audio without transcripts:"
   ]
  },
  {
   "cell_type": "code",
   "execution_count": 81,
   "id": "aea52d80",
   "metadata": {
    "hidden": true
   },
   "outputs": [],
   "source": [
    "# load both text and sound feature dataframes\n",
    "sound_df = pd.read_csv(\"processed_sound_features.csv\", index_col='Unnamed: 0')\n",
    "text_df = pd.read_csv(\"processed_train_text_features.csv\", index_col='Unnamed: 0')"
   ]
  },
  {
   "cell_type": "code",
   "execution_count": 82,
   "id": "d9bb0cdd",
   "metadata": {
    "hidden": true
   },
   "outputs": [],
   "source": [
    "# inner join two tables to create final training set\n",
    "combined_df = text_df.merge(sound_df, on=['dialog_id', 'speaker'], how='inner')\n",
    "\n",
    "# only keep features we are going to use\n",
    "features_to_discard = ['transcript', 'start_time', 'end_time']\n",
    "combined_df = combined_df.drop(features_to_discard, axis=1)"
   ]
  },
  {
   "cell_type": "code",
   "execution_count": 83,
   "id": "68a0c863",
   "metadata": {
    "hidden": true
   },
   "outputs": [
    {
     "data": {
      "text/html": [
       "<div>\n",
       "<style scoped>\n",
       "    .dataframe tbody tr th:only-of-type {\n",
       "        vertical-align: middle;\n",
       "    }\n",
       "\n",
       "    .dataframe tbody tr th {\n",
       "        vertical-align: top;\n",
       "    }\n",
       "\n",
       "    .dataframe thead th {\n",
       "        text-align: right;\n",
       "    }\n",
       "</style>\n",
       "<table border=\"1\" class=\"dataframe\">\n",
       "  <thead>\n",
       "    <tr style=\"text-align: right;\">\n",
       "      <th></th>\n",
       "      <th>dialog_id</th>\n",
       "      <th>speaker</th>\n",
       "      <th>da_tag</th>\n",
       "      <th>function</th>\n",
       "      <th>pronoun</th>\n",
       "      <th>ppron</th>\n",
       "      <th>i</th>\n",
       "      <th>we</th>\n",
       "      <th>you</th>\n",
       "      <th>shehe</th>\n",
       "      <th>...</th>\n",
       "      <th>Max Pitch</th>\n",
       "      <th>Mean Pitch</th>\n",
       "      <th>Sd Pitch</th>\n",
       "      <th>Max Intensity</th>\n",
       "      <th>Mean Intensity</th>\n",
       "      <th>Sd Intensity</th>\n",
       "      <th>Speaking Rate</th>\n",
       "      <th>Jitter</th>\n",
       "      <th>Shimmer</th>\n",
       "      <th>HNR</th>\n",
       "    </tr>\n",
       "  </thead>\n",
       "  <tbody>\n",
       "    <tr>\n",
       "      <th>0</th>\n",
       "      <td>sw2005</td>\n",
       "      <td>A</td>\n",
       "      <td>qo</td>\n",
       "      <td>0.384615</td>\n",
       "      <td>0.076923</td>\n",
       "      <td>0.076923</td>\n",
       "      <td>0.038462</td>\n",
       "      <td>0.0</td>\n",
       "      <td>0.038462</td>\n",
       "      <td>0.0</td>\n",
       "      <td>...</td>\n",
       "      <td>561.691</td>\n",
       "      <td>23.98</td>\n",
       "      <td>50.946</td>\n",
       "      <td>81.406</td>\n",
       "      <td>39.0</td>\n",
       "      <td>23.787</td>\n",
       "      <td>10.196142</td>\n",
       "      <td>0.016</td>\n",
       "      <td>0.087</td>\n",
       "      <td>13.45</td>\n",
       "    </tr>\n",
       "  </tbody>\n",
       "</table>\n",
       "<p>1 rows × 86 columns</p>\n",
       "</div>"
      ],
      "text/plain": [
       "  dialog_id speaker da_tag  function   pronoun     ppron         i   we  \\\n",
       "0    sw2005       A     qo  0.384615  0.076923  0.076923  0.038462  0.0   \n",
       "\n",
       "        you  shehe  ...  Max Pitch  Mean Pitch  Sd Pitch  Max Intensity  \\\n",
       "0  0.038462    0.0  ...    561.691       23.98    50.946         81.406   \n",
       "\n",
       "   Mean Intensity  Sd Intensity  Speaking Rate  Jitter  Shimmer    HNR  \n",
       "0            39.0        23.787      10.196142   0.016    0.087  13.45  \n",
       "\n",
       "[1 rows x 86 columns]"
      ]
     },
     "execution_count": 83,
     "metadata": {},
     "output_type": "execute_result"
    }
   ],
   "source": [
    "# save unfiltered\n",
    "combined_df.to_csv('./combined_processed_train.csv')\n",
    "combined_df.head(1)"
   ]
  },
  {
   "cell_type": "markdown",
   "id": "8c785455",
   "metadata": {
    "hidden": true
   },
   "source": [
    "#### Filter uncommon tags"
   ]
  },
  {
   "cell_type": "markdown",
   "id": "0b568c67",
   "metadata": {
    "hidden": true
   },
   "source": [
    "To improve training performance, we choose 10 most common tags to predict and train:"
   ]
  },
  {
   "cell_type": "code",
   "execution_count": 84,
   "id": "4bdcbe0e",
   "metadata": {
    "hidden": true
   },
   "outputs": [
    {
     "name": "stdout",
     "output_type": "stream",
     "text": [
      "['sd', 'sv', '+', '%', 'aa', 'qy', 'ba', 'b', 'sd^e', 'qw']\n"
     ]
    }
   ],
   "source": [
    "# Choose only top 15 tags to predict, remove other tags\n",
    "dict_occ = Counter(list(combined_df['da_tag'])).most_common(10)\n",
    "most_common_tags = list(map(lambda x: x[0], dict_occ))\n",
    "print(most_common_tags)\n",
    "\n",
    "# remove other tags from dataframe\n",
    "combined_df = combined_df[combined_df.apply(lambda x: x['da_tag'] in most_common_tags, axis=1)]"
   ]
  },
  {
   "cell_type": "code",
   "execution_count": 85,
   "id": "4ad6b2a6",
   "metadata": {
    "hidden": true
   },
   "outputs": [
    {
     "data": {
      "text/html": [
       "<div>\n",
       "<style scoped>\n",
       "    .dataframe tbody tr th:only-of-type {\n",
       "        vertical-align: middle;\n",
       "    }\n",
       "\n",
       "    .dataframe tbody tr th {\n",
       "        vertical-align: top;\n",
       "    }\n",
       "\n",
       "    .dataframe thead th {\n",
       "        text-align: right;\n",
       "    }\n",
       "</style>\n",
       "<table border=\"1\" class=\"dataframe\">\n",
       "  <thead>\n",
       "    <tr style=\"text-align: right;\">\n",
       "      <th></th>\n",
       "      <th>dialog_id</th>\n",
       "      <th>speaker</th>\n",
       "      <th>da_tag</th>\n",
       "      <th>function</th>\n",
       "      <th>pronoun</th>\n",
       "      <th>ppron</th>\n",
       "      <th>i</th>\n",
       "      <th>we</th>\n",
       "      <th>you</th>\n",
       "      <th>shehe</th>\n",
       "      <th>...</th>\n",
       "      <th>Max Pitch</th>\n",
       "      <th>Mean Pitch</th>\n",
       "      <th>Sd Pitch</th>\n",
       "      <th>Max Intensity</th>\n",
       "      <th>Mean Intensity</th>\n",
       "      <th>Sd Intensity</th>\n",
       "      <th>Speaking Rate</th>\n",
       "      <th>Jitter</th>\n",
       "      <th>Shimmer</th>\n",
       "      <th>HNR</th>\n",
       "    </tr>\n",
       "  </thead>\n",
       "  <tbody>\n",
       "    <tr>\n",
       "      <th>1</th>\n",
       "      <td>sw2005</td>\n",
       "      <td>A</td>\n",
       "      <td>sd</td>\n",
       "      <td>0.65</td>\n",
       "      <td>0.2</td>\n",
       "      <td>0.15</td>\n",
       "      <td>0.1</td>\n",
       "      <td>0.0</td>\n",
       "      <td>0.0</td>\n",
       "      <td>0.05</td>\n",
       "      <td>...</td>\n",
       "      <td>561.691</td>\n",
       "      <td>23.98</td>\n",
       "      <td>50.946</td>\n",
       "      <td>81.406</td>\n",
       "      <td>39.0</td>\n",
       "      <td>23.787</td>\n",
       "      <td>10.196142</td>\n",
       "      <td>0.016</td>\n",
       "      <td>0.087</td>\n",
       "      <td>13.45</td>\n",
       "    </tr>\n",
       "  </tbody>\n",
       "</table>\n",
       "<p>1 rows × 86 columns</p>\n",
       "</div>"
      ],
      "text/plain": [
       "  dialog_id speaker da_tag  function  pronoun  ppron    i   we  you  shehe  \\\n",
       "1    sw2005       A     sd      0.65      0.2   0.15  0.1  0.0  0.0   0.05   \n",
       "\n",
       "   ...  Max Pitch  Mean Pitch  Sd Pitch  Max Intensity  Mean Intensity  \\\n",
       "1  ...    561.691       23.98    50.946         81.406            39.0   \n",
       "\n",
       "   Sd Intensity  Speaking Rate  Jitter  Shimmer    HNR  \n",
       "1        23.787      10.196142   0.016    0.087  13.45  \n",
       "\n",
       "[1 rows x 86 columns]"
      ]
     },
     "execution_count": 85,
     "metadata": {},
     "output_type": "execute_result"
    }
   ],
   "source": [
    "# save filtered\n",
    "combined_df.to_csv('./combined_processed_train_filtered.csv')\n",
    "combined_df.head(1)"
   ]
  },
  {
   "cell_type": "markdown",
   "id": "2c3e09b1",
   "metadata": {
    "heading_collapsed": true,
    "hidden": true
   },
   "source": [
    "### Recombine dataframe after preprocessing (Test)"
   ]
  },
  {
   "cell_type": "code",
   "execution_count": 86,
   "id": "97676e1e",
   "metadata": {
    "hidden": true
   },
   "outputs": [],
   "source": [
    "# load unprocessed text and sound features\n",
    "sound_df = pd.read_csv(\"processed_sound_features.csv\", index_col='Unnamed: 0')\n",
    "test_df = pd.read_csv(\"test.csv\")"
   ]
  },
  {
   "cell_type": "code",
   "execution_count": 87,
   "id": "4bff53ef",
   "metadata": {
    "hidden": true
   },
   "outputs": [
    {
     "data": {
      "text/html": [
       "<div>\n",
       "<style scoped>\n",
       "    .dataframe tbody tr th:only-of-type {\n",
       "        vertical-align: middle;\n",
       "    }\n",
       "\n",
       "    .dataframe tbody tr th {\n",
       "        vertical-align: top;\n",
       "    }\n",
       "\n",
       "    .dataframe thead th {\n",
       "        text-align: right;\n",
       "    }\n",
       "</style>\n",
       "<table border=\"1\" class=\"dataframe\">\n",
       "  <thead>\n",
       "    <tr style=\"text-align: right;\">\n",
       "      <th></th>\n",
       "      <th>dialog_id</th>\n",
       "      <th>speaker</th>\n",
       "      <th>da_tag</th>\n",
       "      <th>function</th>\n",
       "      <th>pronoun</th>\n",
       "      <th>ppron</th>\n",
       "      <th>i</th>\n",
       "      <th>we</th>\n",
       "      <th>you</th>\n",
       "      <th>shehe</th>\n",
       "      <th>...</th>\n",
       "      <th>Max Pitch</th>\n",
       "      <th>Mean Pitch</th>\n",
       "      <th>Sd Pitch</th>\n",
       "      <th>Max Intensity</th>\n",
       "      <th>Mean Intensity</th>\n",
       "      <th>Sd Intensity</th>\n",
       "      <th>Speaking Rate</th>\n",
       "      <th>Jitter</th>\n",
       "      <th>Shimmer</th>\n",
       "      <th>HNR</th>\n",
       "    </tr>\n",
       "  </thead>\n",
       "  <tbody>\n",
       "    <tr>\n",
       "      <th>0</th>\n",
       "      <td>sw2022</td>\n",
       "      <td>A</td>\n",
       "      <td>x</td>\n",
       "      <td>0.0</td>\n",
       "      <td>0.0</td>\n",
       "      <td>0.0</td>\n",
       "      <td>0.0</td>\n",
       "      <td>0.0</td>\n",
       "      <td>0.0</td>\n",
       "      <td>0.0</td>\n",
       "      <td>...</td>\n",
       "      <td>593.312</td>\n",
       "      <td>46.962</td>\n",
       "      <td>95.457</td>\n",
       "      <td>83.295</td>\n",
       "      <td>45.533</td>\n",
       "      <td>13.209</td>\n",
       "      <td>10.30899</td>\n",
       "      <td>0.013</td>\n",
       "      <td>0.087</td>\n",
       "      <td>13.45</td>\n",
       "    </tr>\n",
       "  </tbody>\n",
       "</table>\n",
       "<p>1 rows × 86 columns</p>\n",
       "</div>"
      ],
      "text/plain": [
       "  dialog_id speaker da_tag  function  pronoun  ppron    i   we  you  shehe  \\\n",
       "0    sw2022       A      x       0.0      0.0    0.0  0.0  0.0  0.0    0.0   \n",
       "\n",
       "   ...  Max Pitch  Mean Pitch  Sd Pitch  Max Intensity  Mean Intensity  \\\n",
       "0  ...    593.312      46.962    95.457         83.295          45.533   \n",
       "\n",
       "   Sd Intensity  Speaking Rate  Jitter  Shimmer    HNR  \n",
       "0        13.209       10.30899   0.013    0.087  13.45  \n",
       "\n",
       "[1 rows x 86 columns]"
      ]
     },
     "execution_count": 87,
     "metadata": {},
     "output_type": "execute_result"
    }
   ],
   "source": [
    "# inner join two tables to create final testing set\n",
    "combined_df = test_df.merge(sound_df, on=['dialog_id', 'speaker'], how='inner')\n",
    "\n",
    "# only keep features we are going to use\n",
    "features_to_discard = ['transcript', 'start_time', 'end_time']\n",
    "combined_df = combined_df.drop(features_to_discard, axis=1)\n",
    "\n",
    "# save unfiltered\n",
    "combined_df.to_csv('./combined_processed_test.csv')\n",
    "combined_df.head(1)"
   ]
  },
  {
   "cell_type": "markdown",
   "id": "4c35817b",
   "metadata": {
    "hidden": true
   },
   "source": [
    "#### Filter uncommon tags"
   ]
  },
  {
   "cell_type": "code",
   "execution_count": 88,
   "id": "1ed4c033",
   "metadata": {
    "hidden": true
   },
   "outputs": [
    {
     "data": {
      "text/html": [
       "<div>\n",
       "<style scoped>\n",
       "    .dataframe tbody tr th:only-of-type {\n",
       "        vertical-align: middle;\n",
       "    }\n",
       "\n",
       "    .dataframe tbody tr th {\n",
       "        vertical-align: top;\n",
       "    }\n",
       "\n",
       "    .dataframe thead th {\n",
       "        text-align: right;\n",
       "    }\n",
       "</style>\n",
       "<table border=\"1\" class=\"dataframe\">\n",
       "  <thead>\n",
       "    <tr style=\"text-align: right;\">\n",
       "      <th></th>\n",
       "      <th>dialog_id</th>\n",
       "      <th>speaker</th>\n",
       "      <th>da_tag</th>\n",
       "      <th>function</th>\n",
       "      <th>pronoun</th>\n",
       "      <th>ppron</th>\n",
       "      <th>i</th>\n",
       "      <th>we</th>\n",
       "      <th>you</th>\n",
       "      <th>shehe</th>\n",
       "      <th>...</th>\n",
       "      <th>Max Pitch</th>\n",
       "      <th>Mean Pitch</th>\n",
       "      <th>Sd Pitch</th>\n",
       "      <th>Max Intensity</th>\n",
       "      <th>Mean Intensity</th>\n",
       "      <th>Sd Intensity</th>\n",
       "      <th>Speaking Rate</th>\n",
       "      <th>Jitter</th>\n",
       "      <th>Shimmer</th>\n",
       "      <th>HNR</th>\n",
       "    </tr>\n",
       "  </thead>\n",
       "  <tbody>\n",
       "    <tr>\n",
       "      <th>2</th>\n",
       "      <td>sw2022</td>\n",
       "      <td>A</td>\n",
       "      <td>%</td>\n",
       "      <td>0.5</td>\n",
       "      <td>0.0</td>\n",
       "      <td>0.0</td>\n",
       "      <td>0.0</td>\n",
       "      <td>0.0</td>\n",
       "      <td>0.0</td>\n",
       "      <td>0.0</td>\n",
       "      <td>...</td>\n",
       "      <td>593.312</td>\n",
       "      <td>46.962</td>\n",
       "      <td>95.457</td>\n",
       "      <td>83.295</td>\n",
       "      <td>45.533</td>\n",
       "      <td>13.209</td>\n",
       "      <td>10.30899</td>\n",
       "      <td>0.013</td>\n",
       "      <td>0.087</td>\n",
       "      <td>13.45</td>\n",
       "    </tr>\n",
       "  </tbody>\n",
       "</table>\n",
       "<p>1 rows × 86 columns</p>\n",
       "</div>"
      ],
      "text/plain": [
       "  dialog_id speaker da_tag  function  pronoun  ppron    i   we  you  shehe  \\\n",
       "2    sw2022       A      %       0.5      0.0    0.0  0.0  0.0  0.0    0.0   \n",
       "\n",
       "   ...  Max Pitch  Mean Pitch  Sd Pitch  Max Intensity  Mean Intensity  \\\n",
       "2  ...    593.312      46.962    95.457         83.295          45.533   \n",
       "\n",
       "   Sd Intensity  Speaking Rate  Jitter  Shimmer    HNR  \n",
       "2        13.209       10.30899   0.013    0.087  13.45  \n",
       "\n",
       "[1 rows x 86 columns]"
      ]
     },
     "execution_count": 88,
     "metadata": {},
     "output_type": "execute_result"
    }
   ],
   "source": [
    "# Choose only top 15 tags to predict, remove other tags\n",
    "# remove other tags from dataframe\n",
    "combined_df = combined_df[combined_df.apply(lambda x: x['da_tag'] in most_common_tags, axis=1)]\n",
    "\n",
    "# save filtered\n",
    "combined_df.to_csv('./combined_processed_test_filtered.csv')\n",
    "combined_df.head(1)"
   ]
  },
  {
   "cell_type": "markdown",
   "id": "af77bfd8",
   "metadata": {},
   "source": [
    "## Analysis & Hypothesis"
   ]
  },
  {
   "cell_type": "markdown",
   "id": "dd76c5a5",
   "metadata": {},
   "source": [
    "### LIWC Analysis"
   ]
  },
  {
   "cell_type": "markdown",
   "id": "b6d8c8c6",
   "metadata": {},
   "source": [
    "Hypothesis: Hypothesis that value certain in LIWC can help predict whether the speaker is asking a question or not. If the user is more certain, the speaker is more unlikely to be asking a question, and less certain the user is, the more likely they are asking a question. Thus, we could use it to predict dialog act such as Yes-No-Question (qy), wh-question(qw), Rhetorical-Questions (qh), and Open-Question (qo)."
   ]
  },
  {
   "cell_type": "code",
   "execution_count": 89,
   "id": "ccaf2efa",
   "metadata": {},
   "outputs": [
    {
     "data": {
      "image/png": "[encoded data removed]",
      "text/plain": [
       "<Figure size 640x480 with 1 Axes>"
      ]
     },
     "metadata": {},
     "output_type": "display_data"
    }
   ],
   "source": [
    "selected = prep_train_df[['certain', 'da_tag']].loc[train_df['certain'] > 0.1]\n",
    "question_tag = ['qy', 'qw', 'qh', 'qo', 'qh', 'qw^d']\n",
    "selected = selected[selected.apply(lambda x: x['da_tag'] in question_tag, axis=1)]\n",
    "\n",
    "# create a plot: level of certainty and number of tags\n",
    "plt.hist(selected['certain'])\n",
    "plt.xlabel(\"Level of Certainty\")\n",
    "plt.ylabel(\"# of transcripts\")\n",
    "plt.show()"
   ]
  },
  {
   "cell_type": "markdown",
   "id": "a7d9ede7",
   "metadata": {},
   "source": [
    "And some tags such as Agree/Accept(aa), Statement-non-opinion(sd), Response Acknowledgement(bk), and Affirmative non-yes answers(na), might have high level of certainty."
   ]
  },
  {
   "cell_type": "code",
   "execution_count": 90,
   "id": "7330f2c9",
   "metadata": {},
   "outputs": [
    {
     "data": {
      "image/png": "[encoded data removed]",
      "text/plain": [
       "<Figure size 640x480 with 1 Axes>"
      ]
     },
     "metadata": {},
     "output_type": "display_data"
    }
   ],
   "source": [
    "selected = prep_train_df[['certain', 'da_tag']].loc[train_df['certain'] > 0.1]\n",
    "affirm_tag = ['aa', 'sd', 'bk', 'na']\n",
    "selected = selected[selected.apply(lambda x: x['da_tag'] in affirm_tag, axis=1)]\n",
    "\n",
    "plt.hist(selected['certain'])\n",
    "plt.xlabel(\"Level of Certainty\")\n",
    "plt.ylabel(\"# of transcripts\")\n",
    "plt.show()"
   ]
  },
  {
   "cell_type": "markdown",
   "id": "d4221f5c",
   "metadata": {},
   "source": [
    "We can see that from the two graph above, even through the noise of huge number of transcripts below 0.2, the number of transcripts with \"certainy tags\" does have more transcripts in higher level of certainty region (>0.8). The \"uncertain tag\" doesn't have any transcripts > 0.8. However, the certain value seems bit noisy (where there is lots of 0s)."
   ]
  },
  {
   "cell_type": "markdown",
   "id": "42112621",
   "metadata": {},
   "source": [
    "### Sound Analysis"
   ]
  },
  {
   "cell_type": "markdown",
   "id": "9544219d",
   "metadata": {},
   "source": [
    "Hypothesis: Average and max intensity will be correspond to emotions. We want to test the relationship between average and max intensity with agree/accept(aa), Appreciation(ba), Reject(ar), Apology(fa), Thanking(ft)."
   ]
  },
  {
   "cell_type": "code",
   "execution_count": 91,
   "id": "bcb749e1",
   "metadata": {},
   "outputs": [
    {
     "data": {
      "text/html": [
       "<div>\n",
       "<style scoped>\n",
       "    .dataframe tbody tr th:only-of-type {\n",
       "        vertical-align: middle;\n",
       "    }\n",
       "\n",
       "    .dataframe tbody tr th {\n",
       "        vertical-align: top;\n",
       "    }\n",
       "\n",
       "    .dataframe thead th {\n",
       "        text-align: right;\n",
       "    }\n",
       "</style>\n",
       "<table border=\"1\" class=\"dataframe\">\n",
       "  <thead>\n",
       "    <tr style=\"text-align: right;\">\n",
       "      <th></th>\n",
       "      <th>dialog_id</th>\n",
       "      <th>speaker</th>\n",
       "      <th>da_tag</th>\n",
       "      <th>function</th>\n",
       "      <th>pronoun</th>\n",
       "      <th>ppron</th>\n",
       "      <th>i</th>\n",
       "      <th>we</th>\n",
       "      <th>you</th>\n",
       "      <th>shehe</th>\n",
       "      <th>...</th>\n",
       "      <th>Max Pitch</th>\n",
       "      <th>Mean Pitch</th>\n",
       "      <th>Sd Pitch</th>\n",
       "      <th>Max Intensity</th>\n",
       "      <th>Mean Intensity</th>\n",
       "      <th>Sd Intensity</th>\n",
       "      <th>Speaking Rate</th>\n",
       "      <th>Jitter</th>\n",
       "      <th>Shimmer</th>\n",
       "      <th>HNR</th>\n",
       "    </tr>\n",
       "  </thead>\n",
       "  <tbody>\n",
       "    <tr>\n",
       "      <th>0</th>\n",
       "      <td>sw2005</td>\n",
       "      <td>A</td>\n",
       "      <td>qo</td>\n",
       "      <td>0.384615</td>\n",
       "      <td>0.076923</td>\n",
       "      <td>0.076923</td>\n",
       "      <td>0.038462</td>\n",
       "      <td>0.0</td>\n",
       "      <td>0.038462</td>\n",
       "      <td>0.00</td>\n",
       "      <td>...</td>\n",
       "      <td>561.691</td>\n",
       "      <td>23.98</td>\n",
       "      <td>50.946</td>\n",
       "      <td>81.406</td>\n",
       "      <td>39.0</td>\n",
       "      <td>23.787</td>\n",
       "      <td>10.196142</td>\n",
       "      <td>0.016</td>\n",
       "      <td>0.087</td>\n",
       "      <td>13.45</td>\n",
       "    </tr>\n",
       "    <tr>\n",
       "      <th>1</th>\n",
       "      <td>sw2005</td>\n",
       "      <td>A</td>\n",
       "      <td>sd</td>\n",
       "      <td>0.650000</td>\n",
       "      <td>0.200000</td>\n",
       "      <td>0.150000</td>\n",
       "      <td>0.100000</td>\n",
       "      <td>0.0</td>\n",
       "      <td>0.000000</td>\n",
       "      <td>0.05</td>\n",
       "      <td>...</td>\n",
       "      <td>561.691</td>\n",
       "      <td>23.98</td>\n",
       "      <td>50.946</td>\n",
       "      <td>81.406</td>\n",
       "      <td>39.0</td>\n",
       "      <td>23.787</td>\n",
       "      <td>10.196142</td>\n",
       "      <td>0.016</td>\n",
       "      <td>0.087</td>\n",
       "      <td>13.45</td>\n",
       "    </tr>\n",
       "  </tbody>\n",
       "</table>\n",
       "<p>2 rows × 86 columns</p>\n",
       "</div>"
      ],
      "text/plain": [
       "  dialog_id speaker da_tag  function   pronoun     ppron         i   we  \\\n",
       "0    sw2005       A     qo  0.384615  0.076923  0.076923  0.038462  0.0   \n",
       "1    sw2005       A     sd  0.650000  0.200000  0.150000  0.100000  0.0   \n",
       "\n",
       "        you  shehe  ...  Max Pitch  Mean Pitch  Sd Pitch  Max Intensity  \\\n",
       "0  0.038462   0.00  ...    561.691       23.98    50.946         81.406   \n",
       "1  0.000000   0.05  ...    561.691       23.98    50.946         81.406   \n",
       "\n",
       "   Mean Intensity  Sd Intensity  Speaking Rate  Jitter  Shimmer    HNR  \n",
       "0            39.0        23.787      10.196142   0.016    0.087  13.45  \n",
       "1            39.0        23.787      10.196142   0.016    0.087  13.45  \n",
       "\n",
       "[2 rows x 86 columns]"
      ]
     },
     "execution_count": 91,
     "metadata": {},
     "output_type": "execute_result"
    }
   ],
   "source": [
    "# load combined dataset features\n",
    "combined_df = pd.read_csv(\"combined_processed_train.csv\", index_col='Unnamed: 0')\n",
    "combined_df.head(2)"
   ]
  },
  {
   "cell_type": "code",
   "execution_count": 92,
   "id": "f7ce0685",
   "metadata": {},
   "outputs": [],
   "source": [
    "selected = combined_df[['da_tag', 'Max Intensity', 'Mean Intensity']]\n",
    "selected_aa, selected_ba, selected_ar, selected_fa, selected_ft = \\\n",
    "selected.loc[selected['da_tag'] == 'aa'], \\\n",
    "selected.loc[selected['da_tag'] == 'ba'], \\\n",
    "selected.loc[selected['da_tag'] == 'ar'], \\\n",
    "selected.loc[selected['da_tag'] == 'fa'], \\\n",
    "selected.loc[selected['da_tag'] == 'ft'], "
   ]
  },
  {
   "cell_type": "code",
   "execution_count": 93,
   "id": "b04af973",
   "metadata": {},
   "outputs": [],
   "source": [
    "# compute mean for max and mean intensity: [avg max intensity, avg mean intensity]\n",
    "mean_aa = [statistics.mean(list(selected_aa['Max Intensity'])), statistics.mean(list(selected_aa['Mean Intensity']))]\n",
    "mean_ba = [statistics.mean(list(selected_ba['Max Intensity'])), statistics.mean(list(selected_ba['Mean Intensity']))]\n",
    "mean_ar = [statistics.mean(list(selected_ar['Max Intensity'])), statistics.mean(list(selected_ar['Mean Intensity']))]\n",
    "mean_fa = [statistics.mean(list(selected_fa['Max Intensity'])), statistics.mean(list(selected_fa['Mean Intensity']))]\n",
    "mean_ft = [statistics.mean(list(selected_ft['Max Intensity'])), statistics.mean(list(selected_ft['Mean Intensity']))]\n",
    "all_means = [mean_aa, mean_ba, mean_ar, mean_fa, mean_ft]"
   ]
  },
  {
   "cell_type": "code",
   "execution_count": 94,
   "id": "2d5f9659",
   "metadata": {},
   "outputs": [
    {
     "data": {
      "image/png": "[encoded data removed]",
      "text/plain": [
       "<Figure size 640x480 with 1 Axes>"
      ]
     },
     "metadata": {},
     "output_type": "display_data"
    }
   ],
   "source": [
    "# make graph DA tag vs intensity\n",
    "# data to plot\n",
    "n_groups = 5\n",
    "means_frank = [x[0] for x in all_means]\n",
    "means_guido = [x[1] for x in all_means]\n",
    "\n",
    "# create plot\n",
    "fig, ax = plt.subplots()\n",
    "index = np.arange(n_groups)\n",
    "bar_width = 0.35\n",
    "opacity = 0.8\n",
    "\n",
    "rects1 = plt.bar(index, means_frank, bar_width,\n",
    "alpha=opacity,\n",
    "color='b',\n",
    "label='Max Intensity')\n",
    "\n",
    "rects2 = plt.bar(index + bar_width, means_guido, bar_width,\n",
    "alpha=opacity,\n",
    "color='g',\n",
    "label='Mean Intensity')\n",
    "\n",
    "plt.xlabel('Dialogue Action Tags')\n",
    "plt.ylabel('Average of x Intensity')\n",
    "plt.xticks(index + bar_width, ('Agree/Accept', 'Appreciation', 'Reject', 'Apology', 'Thanking'))\n",
    "plt.legend()\n",
    "\n",
    "plt.tight_layout()\n",
    "plt.show()"
   ]
  },
  {
   "cell_type": "markdown",
   "id": "6f7f0583",
   "metadata": {},
   "source": [
    "Conclusion: We can see reject has lowest mean and max intensity and thanking has highest mean and max intensity. However, apology, agree/acept and appreciation has similar mean and max intensity. Thus, we could infer some amount of dialogue action tag from levels of intensity, but to predict dialogue action tags, we could not depend on intensity alone."
   ]
  },
  {
   "cell_type": "code",
   "execution_count": null,
   "id": "ff244e0b",
   "metadata": {},
   "outputs": [],
   "source": []
  }
 ],
 "metadata": {
  "kernelspec": {
   "display_name": "slp",
   "language": "python",
   "name": "slp"
  },
  "language_info": {
   "codemirror_mode": {
    "name": "ipython",
    "version": 3
   },
   "file_extension": ".py",
   "mimetype": "text/x-python",
   "name": "python",
   "nbconvert_exporter": "python",
   "pygments_lexer": "ipython3",
   "version": "3.10.6"
  },
  "toc": {
   "base_numbering": 1,
   "nav_menu": {},
   "number_sections": true,
   "sideBar": true,
   "skip_h1_title": false,
   "title_cell": "Table of Contents",
   "title_sidebar": "Contents",
   "toc_cell": false,
   "toc_position": {
    "height": "423.636px",
    "left": "43px",
    "top": "111.079px",
    "width": "373.736px"
   },
   "toc_section_display": true,
   "toc_window_display": true
  }
 },
 "nbformat": 4,
 "nbformat_minor": 5
}
